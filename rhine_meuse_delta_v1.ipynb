{
 "cells": [
  {
   "cell_type": "code",
   "execution_count": null,
   "metadata": {},
   "outputs": [],
   "source": [
    "#data\n",
    "import xarray as xr\n",
    "import numpy as np \n",
    "import zarr\n",
    "#plotting\n",
    "import matplotlib.pyplot as plt \n",
    "%matplotlib inline\n",
    "plt.rcParams['figure.figsize'] = [10, 5]\n",
    "# gui elements\n",
    "import ipywidgets as widgets\n",
    "from ipyleaflet import *"
   ]
  },
  {
   "cell_type": "code",
   "execution_count": null,
   "metadata": {},
   "outputs": [],
   "source": [
    "# History file form delft3d-fm run by Avelon's ZUNO-RMM model\n",
    "# The data has been converted from netcdf to zarr format\n",
    "# \n",
    "# example 1: data is stored at scaleways.com in an s3 compatible object store.\n",
    "#his=xr.open_zarr(\"https://wetwin.s3.nl-ams.scw.cloud/ZUNO_his.zarr\",consolidated=True)\n",
    "# example 2: data is stored in Nextcloud with sharepath (almost regular http). Here at hetzner.de as a provider\n",
    "his=xr.open_zarr(\"https://nx7384.your-storageshare.de/apps/sharingpath/wetwin/public/zunormm/ZUNO_his.zarr\",consolidated=True)\n",
    "\n",
    "# get locations and names\n",
    "xs=his.station_x_coordinate.values\n",
    "ys=his.station_y_coordinate.values\n",
    "names=his.station_name.values.astype(str)"
   ]
  },
  {
   "cell_type": "code",
   "execution_count": null,
   "metadata": {},
   "outputs": [],
   "source": [
    "# background map zoomed at the RMM region\n",
    "m = Map(center=(51.8, 4.5), zoom=9, basemap=basemaps.nlmaps.water)\n",
    "# add stations as markers\n",
    "station_markers=[]\n",
    "for i in range(len(xs)):\n",
    "    marker=Marker(location=(ys[i], xs[i]),title=names[i])\n",
    "    station_markers.append(marker)\n",
    "station_cluster = MarkerCluster(markers=station_markers)\n",
    "m.add_layer(station_cluster);\n",
    "m"
   ]
  },
  {
   "cell_type": "code",
   "execution_count": null,
   "metadata": {},
   "outputs": [],
   "source": [
    "#plot a time-series\n",
    "iloc=0\n",
    "plt.plot(his.time[:],his.waterlevel[:,iloc])\n",
    "station=his.station_name[iloc].values.astype(str)\n",
    "plt.title(station)"
   ]
  },
  {
   "cell_type": "code",
   "execution_count": null,
   "metadata": {},
   "outputs": [],
   "source": [
    "marker.on\n"
   ]
  },
  {
   "cell_type": "code",
   "execution_count": null,
   "metadata": {},
   "outputs": [],
   "source": []
  }
 ],
 "metadata": {
  "interpreter": {
   "hash": "52a89f5df91fad0984dd77466e275ad1bbd3f3c0a21d3287ac9d08473a9fd829"
  },
  "kernelspec": {
   "display_name": "Python 3.9.12 64-bit ('base': conda)",
   "name": "python3"
  },
  "language_info": {
   "codemirror_mode": {
    "name": "ipython",
    "version": 3
   },
   "file_extension": ".py",
   "mimetype": "text/x-python",
   "name": "python",
   "nbconvert_exporter": "python",
   "pygments_lexer": "ipython3",
   "version": "3.9.12"
  },
  "orig_nbformat": 4,
  "vscode": {
   "interpreter": {
    "hash": "52a89f5df91fad0984dd77466e275ad1bbd3f3c0a21d3287ac9d08473a9fd829"
   }
  }
 },
 "nbformat": 4,
 "nbformat_minor": 2
}
