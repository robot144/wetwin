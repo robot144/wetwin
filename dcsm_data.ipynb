{
 "cells": [
  {
   "cell_type": "code",
   "execution_count": null,
   "metadata": {
    "tags": []
   },
   "outputs": [],
   "source": [
    "import ipywidgets as widgets\n",
    "import datetime as dt\n",
    "import pandas as pd\n",
    "import numpy as np\n",
    "import zarr\n",
    "import xarray as xr\n",
    "import matplotlib.pyplot as plt\n",
    "%matplotlib inline\n",
    "plt.rcParams['figure.figsize'] = [15, 8]\n"
   ]
  },
  {
   "cell_type": "markdown",
   "metadata": {},
   "source": [
    "## Map files"
   ]
  },
  {
   "cell_type": "code",
   "execution_count": null,
   "metadata": {},
   "outputs": [],
   "source": [
    "map_url=\"https://nx7384.your-storageshare.de/apps/sharingpath/wetwin/public/DCSM-FM-3D_map.zarr\"\n",
    "#map_url=\"../DCSM-FM-3D_map.zarr\"\n",
    "map=xr.open_zarr(map_url,consolidated=True)\n",
    "#map\n",
    "map.dims"
   ]
  },
  {
   "cell_type": "code",
   "execution_count": null,
   "metadata": {},
   "outputs": [],
   "source": [
    "map.z_center_3d"
   ]
  },
  {
   "cell_type": "code",
   "execution_count": null,
   "metadata": {},
   "outputs": [],
   "source": [
    "ilayer=49 # 44 at top\n",
    "itime=29\n",
    "x=map.x_center\n",
    "y=map.y_center\n",
    "sal_layer=map.salinity.isel(time=itime,z=ilayer)\n",
    "\n",
    "fig,ax2 = plt.subplots(figsize=(15,10))\n",
    "pc = ax2.pcolormesh(x,y,sal_layer,vmin=30,vmax=36)\n",
    "fig.colorbar(pc,ax=ax2)"
   ]
  },
  {
   "cell_type": "code",
   "execution_count": null,
   "metadata": {},
   "outputs": [],
   "source": [
    "\n",
    "itime = 9\n",
    "iy = 700\n",
    "map_nc_sel = map.isel(time=itime,y=iy)\n",
    "z = map_nc_sel.z_center_3d\n",
    "sal_prof = map_nc_sel.salinity\n",
    "fig,ax2 = plt.subplots(figsize=(20,5))\n",
    "pc = ax2.pcolormesh(x,z.bfill(dim='z'),sal_prof,vmin=30,vmax=36)\n",
    "fig.colorbar(pc,ax=ax2)"
   ]
  },
  {
   "cell_type": "code",
   "execution_count": null,
   "metadata": {},
   "outputs": [],
   "source": []
  }
 ],
 "metadata": {
  "interpreter": {
   "hash": "52a89f5df91fad0984dd77466e275ad1bbd3f3c0a21d3287ac9d08473a9fd829"
  },
  "kernelspec": {
   "display_name": "Python 3 (system-wide)",
   "language": "python",
   "name": "python3"
  },
  "language_info": {
   "codemirror_mode": {
    "name": "ipython",
    "version": 3
   },
   "file_extension": ".py",
   "mimetype": "text/x-python",
   "name": "python",
   "nbconvert_exporter": "python",
   "pygments_lexer": "ipython3",
   "version": "3.9.12"
  },
  "toc-showmarkdowntxt": true
 },
 "nbformat": 4,
 "nbformat_minor": 4
}
