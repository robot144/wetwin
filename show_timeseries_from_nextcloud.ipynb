{
 "cells": [
  {
   "cell_type": "code",
   "execution_count": null,
   "metadata": {},
   "outputs": [],
   "source": [
    "import ipywidgets as widgets\n",
    "import datetime as dt\n",
    "import pandas as pd\n",
    "import netCDF4 as nc\n",
    "import numpy as np\n",
    "import matplotlib.pyplot as plt\n",
    "%matplotlib inline\n",
    "plt.rcParams['figure.figsize'] = [10, 5]\n",
    "# reading netcdf from a url without opendap\n",
    "# from https://towardsdatascience.com/an-efficient-way-to-read-data-from-the-web-directly-into-python-a526a0b4f4cb\n",
    "# I needed to install h5netcdf\n",
    "import urllib.request\n",
    "import xarray as xr\n",
    "import io"
   ]
  },
  {
   "cell_type": "code",
   "execution_count": null,
   "metadata": {},
   "outputs": [],
   "source": [
    "# Thanks to hatyan https://github.com/Deltares/hatyan for the core of this example\n",
    "url_prefix=\"https://nx7384.your-storageshare.de/s\" \n",
    "station_urls=[\"45KiDkKGK6SkqCi/download\",\"MK2gNjx8k7qRzsp/download\"]\n",
    "station_names=[\"Cuxhaven\",\"Brest\"] #http://uhslc.soest.hawaii.edu/data/\n",
    "# using sharingpath in nextcloud\n",
    "# https://nx7384.your-storageshare.de/apps/sharingpath/wetwin/public/test/series1.csv"
   ]
  },
  {
   "cell_type": "code",
   "execution_count": null,
   "metadata": {},
   "outputs": [],
   "source": [
    "ts_meas=[]\n",
    "ts_names=[]\n",
    "print(\"Downloading data per location:\")\n",
    "for i in np.arange(len(station_urls)):\n",
    "   myurl=url_prefix+\"/\"+station_urls[i]\n",
    "   print(\"url = \"+myurl)\n",
    "   req = urllib.request.Request(myurl)\n",
    "   with urllib.request.urlopen(req) as resp:\n",
    "       ds = xr.open_dataset(io.BytesIO(resp.read()))\n",
    "       ts_name = station_names[i]\n",
    "       ts_names.append(ts_name)\n",
    "       ts_values=ds.sea_level[0,-1000:]/1000\n",
    "       ts_times=ds.time[-1000:]\n",
    "       ts_meas.append(pd.DataFrame({'values':ts_values},index=ts_times))\n",
    "print(\"Downloads finished\")"
   ]
  },
  {
   "cell_type": "code",
   "execution_count": null,
   "metadata": {},
   "outputs": [],
   "source": [
    "# selection of stations with a dropdown list\n",
    "dd1=widgets.Dropdown(\n",
    "    options=ts_names,\n",
    "    value=ts_names[0],\n",
    "    description='Location',\n",
    ")\n",
    "display(dd1)\n",
    "\n",
    "# create output widget for a plot\n",
    "out_plot = widgets.Output(layout = widgets.Layout(height='300px'))\n",
    " \n",
    "def update_plot(change):\n",
    "    choice=dd1.value #or change[\"new\"]\n",
    "    with out_plot:\n",
    "        iplot=ts_names.index(choice)\n",
    "        plt.plot(ts_meas[iplot],color=\"C0\")\n",
    "        #plt.title(ts_names[iplot])\n",
    "        plt.title(choice)\n",
    "        out_plot.clear_output()\n",
    "        plt.show()\n",
    "\n",
    "dd1.observe(update_plot,names=\"value\")\n",
    "display(out_plot)\n",
    "update_plot(1)\n"
   ]
  },
  {
   "cell_type": "code",
   "execution_count": null,
   "metadata": {},
   "outputs": [],
   "source": []
  }
 ],
 "metadata": {
  "interpreter": {
   "hash": "52a89f5df91fad0984dd77466e275ad1bbd3f3c0a21d3287ac9d08473a9fd829"
  },
  "kernelspec": {
   "display_name": "Python 3.9.12 64-bit ('base': conda)",
   "name": "python3"
  },
  "language_info": {
   "codemirror_mode": {
    "name": "ipython",
    "version": 3
   },
   "file_extension": ".py",
   "mimetype": "text/x-python",
   "name": "python",
   "nbconvert_exporter": "python",
   "pygments_lexer": "ipython3",
   "version": "3.9.12"
  },
  "vscode": {
   "interpreter": {
    "hash": "52a89f5df91fad0984dd77466e275ad1bbd3f3c0a21d3287ac9d08473a9fd829"
   }
  }
 },
 "nbformat": 4,
 "nbformat_minor": 2
}
