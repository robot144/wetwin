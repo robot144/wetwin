{
 "cells": [
  {
   "cell_type": "code",
   "execution_count": null,
   "id": "b2abd62a",
   "metadata": {},
   "outputs": [],
   "source": [
    "import ipywidgets as widgets\n",
    "import datetime as dt\n",
    "import pandas as pd\n",
    "import numpy as np\n",
    "import zarr\n",
    "import xarray as xr\n",
    "import matplotlib.pyplot as plt\n",
    "%matplotlib inline\n",
    "plt.rcParams['figure.figsize'] = [15, 8]\n"
   ]
  },
  {
   "cell_type": "code",
   "execution_count": null,
   "id": "2eaba0b1",
   "metadata": {},
   "outputs": [],
   "source": [
    "his_url=\"https://nx7384.your-storageshare.de/apps/sharingpath/wetwin/public/zunormm/ZUNO_his.zarr/\"\n",
    "his=xr.open_dataset(his_url,engine=\"zarr\",consolidated=True)\n",
    "his"
   ]
  },
  {
   "cell_type": "code",
   "execution_count": null,
   "id": "26aa9f06",
   "metadata": {},
   "outputs": [],
   "source": [
    "iloc=0\n",
    "plt.plot(his.time[:],his.waterlevel[:,iloc])"
   ]
  },
  {
   "cell_type": "markdown",
   "metadata": {},
   "source": [
    "## Map files"
   ]
  },
  {
   "cell_type": "code",
   "execution_count": null,
   "metadata": {},
   "outputs": [],
   "source": [
    "map_url=\"https://nx7384.your-storageshare.de/apps/sharingpath/wetwin/public/zunormm/ZUNO_map.zarr/\"\n",
    "#map_url=\"../Particles.jl/ZUNO_map.zarr\"\n",
    "map=xr.open_dataset(map_url,engine=\"zarr\",consolidated=True)\n",
    "#map"
   ]
  },
  {
   "cell_type": "code",
   "execution_count": null,
   "metadata": {},
   "outputs": [],
   "source": [
    "x=map[\"x_center\"][:].values\n",
    "y=map[\"y_center\"][:].values\n",
    "var=map[\"salinity\"][12,:,:].values\n",
    "var[var==0.0]=np.NaN\n",
    "plt.pcolormesh(x,y,var)\n"
   ]
  },
  {
   "cell_type": "code",
   "execution_count": null,
   "metadata": {},
   "outputs": [],
   "source": []
  },
  {
   "cell_type": "code",
   "execution_count": null,
   "metadata": {},
   "outputs": [],
   "source": [
    "help(plt.pcolormesh)"
   ]
  },
  {
   "cell_type": "markdown",
   "metadata": {},
   "source": [
    "## Zarr library\n",
    "\n",
    "Above we're opening the dataset with Xarray. This is probably the recommended route in most cases, but you can also use the underlying zarr library directly."
   ]
  },
  {
   "cell_type": "code",
   "execution_count": null,
   "id": "7b083574",
   "metadata": {},
   "outputs": [],
   "source": [
    "ff=zarr.open_consolidated(his_url) #consolidated metadata is necessary when no directories can be listed as over http \n",
    "\n",
    "print(ff.tree())\n"
   ]
  },
  {
   "cell_type": "code",
   "execution_count": null,
   "id": "fadbbf9a",
   "metadata": {
    "scrolled": true
   },
   "outputs": [],
   "source": [
    "print(ff.waterlevel.attrs.asdict())\n",
    "ff.waterlevel.info"
   ]
  },
  {
   "cell_type": "code",
   "execution_count": null,
   "id": "b415f897",
   "metadata": {},
   "outputs": [],
   "source": [
    "x=np.array([1,2,3])\n",
    "y=np.array([1,2])\n",
    "vals=np.random.randn(2,3)\n",
    "#plt.pcolormesh(x,y,vals)\n",
    "x.shape, y.shape, vals.shape"
   ]
  },
  {
   "cell_type": "code",
   "execution_count": null,
   "metadata": {},
   "outputs": [],
   "source": []
  }
 ],
 "metadata": {
  "interpreter": {
   "hash": "52a89f5df91fad0984dd77466e275ad1bbd3f3c0a21d3287ac9d08473a9fd829"
  },
  "kernelspec": {
   "display_name": "Python 3.9.12 64-bit ('base': conda)",
   "name": "python3"
  },
  "language_info": {
   "codemirror_mode": {
    "name": "ipython",
    "version": 3
   },
   "file_extension": ".py",
   "mimetype": "text/x-python",
   "name": "python",
   "nbconvert_exporter": "python",
   "pygments_lexer": "ipython3",
   "version": "3.9.12"
  }
 },
 "nbformat": 4,
 "nbformat_minor": 5
}
