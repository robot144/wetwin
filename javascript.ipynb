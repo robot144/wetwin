{
 "cells": [
  {
   "cell_type": "code",
   "execution_count": null,
   "id": "971b90b5",
   "metadata": {},
   "outputs": [],
   "source": [
    "%%js\n",
    "var h=window.innerHeight;\n",
    "element.text(h);"
   ]
  },
  {
   "cell_type": "code",
   "execution_count": null,
   "id": "7680d4e5",
   "metadata": {},
   "outputs": [],
   "source": [
    "from IPython.display import Javascript, display\n",
    "js=\"\"\"\n",
    "var w = window.innerWidth;\n",
    "var h = window.innerHeight; \n",
    "IPython.notebook.kernel.execute('print('+h.toString()+')')\n",
    "\"\"\"\n",
    "h=0\n",
    "display(Javascript(js))\n",
    "h"
   ]
  },
  {
   "cell_type": "code",
   "execution_count": null,
   "id": "0af89cb2",
   "metadata": {},
   "outputs": [],
   "source": [
    "from IPython.display import Javascript, display\n",
    "Javascript(\"\"\"element.text(\"Hello\")\"\"\")"
   ]
  },
  {
   "cell_type": "code",
   "execution_count": null,
   "id": "44fb8b97",
   "metadata": {},
   "outputs": [],
   "source": [
    "from ipykernel.comm import Comm\n",
    "\n",
    "js_input = [] #case willing to track\n",
    "\n",
    "def func_edit(cobj,text):\n",
    "    my_comm = Comm(target_name=cobj) #this is the callback\n",
    "    my_comm.send('' if  text == '' else 'Return: ' + text)\n",
    "\n",
    "    global js_input\n",
    "    js_input.append(f'origin={cobj} text={text}')\n",
    "    \n",
    "    \n",
    "    \n",
    "from IPython.display import display, HTML\n",
    "html = \"\"\"\n",
    "<script>\n",
    "    var comm_name = \"this_control\";\n",
    "    function fcalc(x)\n",
    "    {\n",
    "        // here I am passing to the Python function the value to edit and the address for getting the return value\n",
    "        IPython.notebook.kernel.execute(\"func_edit('\" + comm_name + \"','\" + x.value + \"')\")\n",
    "    }\n",
    "    Jupyter.notebook.kernel.comm_manager.register_target(comm_name, function(comm, msg) \n",
    "        {\n",
    "          // comm is the frontend comm instance,  msg is the comm_open message, which can carry data\n",
    "\n",
    "            // Register handlers for later messages:\n",
    "            comm.on_msg(function(msg) { \n",
    "                document.getElementById(\"out\").value = msg.content.data;\n",
    "            });\n",
    "            \n",
    "            //comm.on_close(function(msg) {...});\n",
    "            //comm.send({'foo': 40}); what is it??\n",
    "        });\n",
    "</script>\n",
    "<label for=\"in\">Input:</label>\n",
    "<input type=\"text\" id=\"in\" name=\"in\" oninput=\"fcalc(this)\">\n",
    "<label for=\"out\">Out:</label>\n",
    "<input type=\"text\" id=\"out\">\n",
    "\"\"\"\n",
    "display(HTML(html))"
   ]
  },
  {
   "cell_type": "code",
   "execution_count": null,
   "id": "ed8482fc",
   "metadata": {},
   "outputs": [],
   "source": [
    "js_input"
   ]
  },
  {
   "cell_type": "code",
   "execution_count": null,
   "id": "084d6d7a",
   "metadata": {},
   "outputs": [],
   "source": [
    "from ipykernel.comm import Comm\n",
    "\n",
    "wsize = [] #global for result\n",
    "\n",
    "def win_size(width,height):\n",
    "    global win_size\n",
    "    wsize.append(f'width={width} text={height}')\n",
    "    \n",
    "    \n",
    "from IPython.display import display, HTML, Javascript\n",
    "js = \"\"\"\n",
    "var width=window.innerWidth.toString();\n",
    "var height=window.innerHeight.toString();\n",
    "var call1=\"win_size('\" + width + \"','\" + height + \"')\"\n",
    "IPython.notebook.kernel.execute(call1);\n",
    "element.text(call1)\n",
    "\"\"\"\n",
    "display(Javascript(js))\n",
    "win_size"
   ]
  },
  {
   "cell_type": "code",
   "execution_count": null,
   "id": "e12e800c",
   "metadata": {},
   "outputs": [],
   "source": [
    "wsize"
   ]
  },
  {
   "cell_type": "code",
   "execution_count": null,
   "id": "56cabf7c",
   "metadata": {},
   "outputs": [],
   "source": [
    "# Get size of window via javascript\n",
    "wsize = [] #global for result\n",
    "\n",
    "def win_size(width,height):\n",
    "    global win_size\n",
    "    wsize[:]=[width,height]\n",
    "    \n",
    "from IPython.display import display, HTML, Javascript\n",
    "js = \"\"\"\n",
    "var width=window.innerWidth.toString();\n",
    "var height=window.innerHeight.toString();\n",
    "var call1=\"win_size(\" + width + \",\" + height + \")\";\n",
    "IPython.notebook.kernel.execute(call1);\n",
    "\"\"\"\n",
    "display(Javascript(js))"
   ]
  },
  {
   "cell_type": "code",
   "execution_count": null,
   "id": "a1cef1ce",
   "metadata": {},
   "outputs": [],
   "source": [
    "wsize"
   ]
  },
  {
   "cell_type": "code",
   "execution_count": null,
   "id": "93fe8cfc",
   "metadata": {},
   "outputs": [],
   "source": [
    "# Get size of window via javascript\n",
    "# TODO: DOESN'T WORK IN VS CODE\n",
    "wsize = [] #global for result\n",
    "\n",
    "def win_size(width,height):\n",
    "    global win_size\n",
    "    wsize[:]=[width,height]\n",
    "    \n",
    "from IPython.display import display, HTML, Javascript\n",
    "html1 = \"\"\"\n",
    "<script>\n",
    "function myinit(){\n",
    "   var width=window.innerWidth.toString();\n",
    "   var height=window.innerHeight.toString();\n",
    "   var call1=\"win_size(\" + width + \",\" + height + \")\"\n",
    "   IPython.notebook.kernel.execute(call1);\n",
    "   element.text(\"loaded\")\n",
    "}\n",
    "<script>\n",
    "<div id=\"\" onload=\"myinit()\"></div>\n",
    "\"\"\"\n",
    "\n",
    "html2=\"\"\"\n",
    "<p id=\"demo\" onload=\"myFunction\">A Paragraph.</p>\n",
    "<button type=\"button\" onclick=\"myFunction()\">Try it</button>\n",
    "\n",
    "<script>\n",
    "function myFunction() {\n",
    "  document.getElementById(\"demo\").innerHTML = \"Paragraph changed.\";\n",
    "}\n",
    "</script>\n",
    "\"\"\"\n",
    "display(HTML(html2))"
   ]
  },
  {
   "cell_type": "code",
   "execution_count": null,
   "id": "6c621276",
   "metadata": {},
   "outputs": [],
   "source": [
    "wsize"
   ]
  },
  {
   "cell_type": "code",
   "execution_count": null,
   "id": "67010f98",
   "metadata": {},
   "outputs": [],
   "source": [
    "# Get size of window via javascript\n",
    "# TODO: DOESN'T CHANGE GLOBAL IN VS CODE\n",
    "global wsize\n",
    "wsize = [0,0] #global for result\n",
    "\n",
    "def win_size(width,height):\n",
    "    global wsize\n",
    "    wsize[:]=[width,height]\n",
    "    \n",
    "from IPython.display import display, HTML, Javascript\n",
    "html1 = \"\"\"\n",
    "<p id=\"demo\"></p>\n",
    "\n",
    "<script>\n",
    "var width=window.innerWidth.toString();\n",
    "var height=window.innerHeight.toString();\n",
    "var call1=\"win_size(\" + width + \",\" + height + \")\";\n",
    "document.getElementById(\"demo\").innerHTML = call1;\n",
    "IPython.notebook.kernel.execute(call1);\n",
    "</script>\n",
    "\"\"\"\n",
    "display(HTML(html1))\n",
    "\n",
    "\n"
   ]
  },
  {
   "cell_type": "code",
   "execution_count": null,
   "id": "2c051e1c",
   "metadata": {},
   "outputs": [],
   "source": [
    "wsize"
   ]
  },
  {
   "cell_type": "code",
   "execution_count": null,
   "id": "166bfba7",
   "metadata": {},
   "outputs": [],
   "source": [
    "from ipywidgets import AppLayout, Button, Layout\n",
    "def create_expanded_button(description, button_style):\n",
    "    return Button(description=description, button_style=button_style, layout=Layout(height='auto', width='auto'))\n",
    "\n",
    "header_button = create_expanded_button('Header', 'success')\n",
    "left_button = create_expanded_button('Left', 'info')\n",
    "center_button = create_expanded_button('Center', 'warning')\n",
    "right_button = create_expanded_button('Right', 'info')\n",
    "footer_button = create_expanded_button('Footer', 'success')\n",
    "\n",
    "a=AppLayout(header=header_button,\n",
    "          left_sidebar=left_button,\n",
    "          center=None,\n",
    "          right_sidebar=right_button,\n",
    "          footer=footer_button,\n",
    "          width=\"100%\",height=\"792px\",align_self=\"stretch\")\n",
    "display(a)"
   ]
  },
  {
   "cell_type": "code",
   "execution_count": null,
   "id": "ca422c12",
   "metadata": {},
   "outputs": [],
   "source": []
  }
 ],
 "metadata": {
  "kernelspec": {
   "display_name": "Python 3 (ipykernel)",
   "language": "python",
   "name": "python3"
  },
  "language_info": {
   "codemirror_mode": {
    "name": "ipython",
    "version": 3
   },
   "file_extension": ".py",
   "mimetype": "text/x-python",
   "name": "python",
   "nbconvert_exporter": "python",
   "pygments_lexer": "ipython3",
   "version": "3.9.12"
  }
 },
 "nbformat": 4,
 "nbformat_minor": 5
}
