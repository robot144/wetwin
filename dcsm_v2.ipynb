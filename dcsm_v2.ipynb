{
 "cells": [
  {
   "cell_type": "markdown",
   "metadata": {},
   "source": [
    "# DCSM-FM 3D"
   ]
  },
  {
   "cell_type": "code",
   "execution_count": null,
   "metadata": {},
   "outputs": [],
   "source": [
    "#data\n",
    "import xarray as xr\n",
    "import numpy as np \n",
    "import zarr\n",
    "#plotting\n",
    "import matplotlib.pyplot as plt \n",
    "%matplotlib widget\n",
    "plt.rcParams['figure.figsize'] = [7, 5]\n",
    "# gui elements\n",
    "import ipywidgets as widgets\n",
    "#from ipyleaflet import *\n",
    "\n",
    "from wtcore.variables import *\n",
    "from wtcore.widgets import *\n",
    "from wtcore.plots import *"
   ]
  },
  {
   "cell_type": "code",
   "execution_count": null,
   "metadata": {},
   "outputs": [],
   "source": [
    "map_url=\"https://nx7384.your-storageshare.de/apps/sharingpath/wetwin/public/DCSM-FM-3D_map.zarr\"\n",
    "#map_url=\"../DCSM-FM-3D_map.zarr\"\n",
    "map=xr.open_zarr(map_url,consolidated=True)\n",
    "# map.salinity"
   ]
  },
  {
   "cell_type": "code",
   "execution_count": null,
   "metadata": {},
   "outputs": [],
   "source": [
    "class MyPlot1(wtPlot):\n",
    "    def __init__(self,map,variables,*args,**kwargs):\n",
    "        super().__init__(variables,*args,**kwargs)\n",
    "        #expand here with your own data\n",
    "        self.map = map\n",
    "        itime=self.variables[0].value\n",
    "        ax=self.ax\n",
    "        fig=self.fig\n",
    "        pc=self.update(itime) # fore a first time drawing\n",
    "        fig.colorbar(pc,ax=ax) #TODO only steal space for colorboar once\n",
    "\n",
    "    def redraw(self):\n",
    "        ax=self.ax\n",
    "        fig=self.fig\n",
    "        ivartype=self.variables[0].value # time-step is first variable\n",
    "        itime=self.variables[1].value # time-step is first variable\n",
    "        ilayer=self.variables[2].value # time-step is second variable\n",
    "        xs = self.map.x_center\n",
    "        ys = self.map.y_center\n",
    "        zs = self.map.z_center_3d\n",
    "        pc=None\n",
    "        if ivartype==0:\n",
    "            temp = map.temperature.isel(time=itime,z=ilayer) #select part of the data\n",
    "            pc = ax.pcolormesh(xs,ys,temp,vmin=0,vmax=20) \n",
    "        else:\n",
    "            sal = map.salinity.isel(time=itime,z=ilayer) #select part of the data\n",
    "            pc = ax.pcolormesh(xs,ys,sal,vmin=20,vmax=35) \n",
    "        return pc\n",
    "\n",
    "# Variables and buttons\n",
    "ivartype=ListVariable(\"vartype\",\"Quantity\",[\"Temperature\",\"Salinity\"])\n",
    "ivartype_lst=WtListDropdown(ivartype)\n",
    "itime=IntVariable(\"itime\",\"time-step\",0,len(map.time),0) #define variable\n",
    "itime_sld=WtIntSlider(itime) # add a control widget\n",
    "ilayer=IntVariable(\"ilayer\",\"layer\",0,len(map.z),len(map.z)-1)\n",
    "ilayer_sld=WtIntSlider(ilayer)\n",
    "\n",
    "# Plots\n",
    "p1=MyPlot1(map,[ivartype,itime,ilayer]) #create plot linked to variables\n",
    "\n",
    "# Layout and start\n",
    "bottom_widgets=widgets.HBox([ivartype_lst,itime_sld,ilayer_sld])\n",
    "top_widgets= p1\n",
    "gui=widgets.VBox([bottom_widgets,top_widgets]) #stack the parts\n",
    "display(gui)"
   ]
  },
  {
   "cell_type": "code",
   "execution_count": null,
   "metadata": {},
   "outputs": [],
   "source": []
  }
 ],
 "metadata": {
  "interpreter": {
   "hash": "52a89f5df91fad0984dd77466e275ad1bbd3f3c0a21d3287ac9d08473a9fd829"
  },
  "kernelspec": {
   "display_name": "Python 3.9.12 64-bit ('base': conda)",
   "name": "python3"
  },
  "language_info": {
   "codemirror_mode": {
    "name": "ipython",
    "version": 3
   },
   "file_extension": ".py",
   "mimetype": "text/x-python",
   "name": "python",
   "nbconvert_exporter": "python",
   "pygments_lexer": "ipython3",
   "version": "3.9.12"
  },
  "orig_nbformat": 4
 },
 "nbformat": 4,
 "nbformat_minor": 2
}
