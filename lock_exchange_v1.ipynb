{
 "cells": [
  {
   "cell_type": "markdown",
   "metadata": {},
   "source": [
    "# Lock exchange flow\n",
    "\n",
    "In a lock exchange experiment fluid with two different densities are initially separated horizontally. At the start of the experiment, the separator is remove and the lighter fluid start to flow over the heavier one, and the heavier fluid flows under the lighter one.\n",
    "Here we use a test-case from the Delft3D-FM test-bench to illiustrate the wetwin-core gui elements. This test is relatively small (90+430Kb in compressed format), so it can serve as a test-case for new gui elements. The data-set is split in two parts: the histories and the maps."
   ]
  },
  {
   "cell_type": "code",
   "execution_count": null,
   "metadata": {},
   "outputs": [],
   "source": [
    "#data\n",
    "import xarray as xr\n",
    "import numpy as np \n",
    "import zarr\n",
    "#plotting\n",
    "import matplotlib.pyplot as plt \n",
    "%matplotlib widget\n",
    "plt.rcParams['figure.figsize'] = [10, 2]\n",
    "# gui elements\n",
    "import ipywidgets as widgets\n",
    "#from ipyleaflet import *\n",
    "\n",
    "from wtcore.variables import *\n",
    "from wtcore.widgets import *\n",
    "from wtcore.plots import *"
   ]
  },
  {
   "cell_type": "code",
   "execution_count": null,
   "metadata": {},
   "outputs": [],
   "source": [
    "map_url=\"https://nx7384.your-storageshare.de/apps/sharingpath/wetwin/public/test/locxxz_map.zarr\"\n",
    "#map_url=\"../DCSM-FM-3D_map.zarr\"\n",
    "map=xr.open_zarr(map_url,consolidated=True)\n",
    "#map"
   ]
  },
  {
   "cell_type": "code",
   "execution_count": null,
   "metadata": {},
   "outputs": [],
   "source": [
    "class MyPlot1(wtPlot):\n",
    "    def __init__(self,map,variables,*args,**kwargs):\n",
    "        super().__init__(variables,*args,**kwargs)\n",
    "        #expand here with your own data\n",
    "        self.map = map\n",
    "        itime=self.variables[0].value\n",
    "        ax=self.ax\n",
    "        fig=self.fig\n",
    "        self.update(itime) # fore a first time drawing\n",
    "        pc=self.pc\n",
    "        fig.colorbar(pc,ax=ax)\n",
    "    def redraw(self):\n",
    "        ax=self.ax\n",
    "        fig=self.fig\n",
    "        itime=self.variables[0].value # time-step is first variable\n",
    "        xs = self.map.x_center\n",
    "        zs = self.map.z\n",
    "        iy = 0 #only one cell wide here\n",
    "        sal_prof = map.salinity.isel(time=itime,y=0) #select part of the data\n",
    "        pc = ax.pcolormesh(xs,zs,sal_prof,vmin=12,vmax=18)\n",
    "        self.pc=pc\n",
    "        \n",
    "int1=IntVariable(\"itime\",\"time-step\",0,len(map.time),0) #define variable\n",
    "int1sld=WtIntSlider(int1) #create slider linked to variable int1\n",
    "p1=MyPlot1(map,[int1]) #create plot linked to variable int1, too\n",
    "gui=widgets.VBox([p1,int1sld]) #vertical stack of slider and plot\n",
    "display(gui)"
   ]
  },
  {
   "cell_type": "code",
   "execution_count": null,
   "metadata": {},
   "outputs": [],
   "source": []
  },
  {
   "cell_type": "code",
   "execution_count": null,
   "metadata": {},
   "outputs": [],
   "source": []
  }
 ],
 "metadata": {
  "interpreter": {
   "hash": "52a89f5df91fad0984dd77466e275ad1bbd3f3c0a21d3287ac9d08473a9fd829"
  },
  "kernelspec": {
   "display_name": "Python 3.9.12 64-bit ('base': conda)",
   "name": "python3"
  },
  "language_info": {
   "codemirror_mode": {
    "name": "ipython",
    "version": 3
   },
   "file_extension": ".py",
   "mimetype": "text/x-python",
   "name": "python",
   "nbconvert_exporter": "python",
   "pygments_lexer": "ipython3",
   "version": "3.9.12"
  },
  "orig_nbformat": 4
 },
 "nbformat": 4,
 "nbformat_minor": 2
}
