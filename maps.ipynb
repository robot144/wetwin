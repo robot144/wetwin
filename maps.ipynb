{
 "cells": [
  {
   "cell_type": "code",
   "execution_count": null,
   "metadata": {},
   "outputs": [],
   "source": [
    "try:\n",
    "    import piplite\n",
    "    await piplite.install('ipywidgets')\n",
    "    await piplite.install('ipyleaflet')\n",
    "    import ipywidgets\n",
    "    from ipyleaflet import *\n",
    "except(ModuleNotFoundError):\n",
    "    try:\n",
    "        import ipywidgets\n",
    "        from ipyleaflet import *\n",
    "    except(ModuleNotFoundError):\n",
    "        print(\"Please install ipywidgets and ipyleaflet\")"
   ]
  },
  {
   "cell_type": "code",
   "execution_count": null,
   "metadata": {},
   "outputs": [],
   "source": [
    "## To install using anaconda\n",
    "# %conda install ipywidgets ipyleaflet\n",
    "# !jupyter nbextension enable --py widgetsnbextension \n",
    "## restart kernel"
   ]
  },
  {
   "cell_type": "code",
   "execution_count": null,
   "metadata": {},
   "outputs": [],
   "source": [
    "m = Map(center=(51.8, 4.5), zoom=9, basemap=basemaps.nlmaps.water)\n",
    "m"
   ]
  },
  {
   "cell_type": "code",
   "execution_count": null,
   "metadata": {},
   "outputs": [],
   "source": [
    "new_basemap=basemap_to_tiles(basemaps.Esri.WorldTopoMap)\n",
    "m.add_layer(new_basemap)"
   ]
  },
  {
   "cell_type": "code",
   "execution_count": null,
   "metadata": {},
   "outputs": [],
   "source": [
    "marker.visible=True"
   ]
  },
  {
   "cell_type": "code",
   "execution_count": null,
   "metadata": {},
   "outputs": [],
   "source": [
    "from ipyleaflet import *\n",
    "basemap=basemaps.OpenStreetMap.Mapnik\n",
    "center=(51.8, 4.5)\n",
    "# basemap=basemaps.Esri.WorldTopoMap\n",
    "# basemap=basemaps.nlmaps.water\n",
    "m = Map(center=(51.8, 4.5), zoom=9)\n",
    "#marker=Marker(location=center,title=\"here\",draggable=True)\n",
    "marker=CircleMarker(location=center,radius=3)\n",
    "m.add_layer(marker)\n",
    "#m.layout.align_self=\"stretch\"\n",
    "#m.layout.width=\"100%\"\n",
    "#m.layout.height=\"100px\"\n",
    "display(m)"
   ]
  },
  {
   "cell_type": "code",
   "execution_count": null,
   "metadata": {},
   "outputs": [],
   "source": [
    "print(m.layout.height)"
   ]
  },
  {
   "cell_type": "code",
   "execution_count": null,
   "metadata": {},
   "outputs": [],
   "source": [
    "strava_all = basemap_to_tiles(basemaps.Strava.All)\n",
    "m.add(strava_all)"
   ]
  },
  {
   "cell_type": "code",
   "execution_count": null,
   "metadata": {},
   "outputs": [],
   "source": [
    "# mouse interaction handling\n",
    "\n",
    "from ipywidgets import Label\n",
    "\n",
    "label = Label()\n",
    "display(label)\n",
    "\n",
    "\n",
    "def handle_interaction(**kwargs):\n",
    "    if kwargs.get(\"type\") == \"mousemove\":\n",
    "        label.value = str(kwargs.get(\"coordinates\"))\n",
    "\n",
    "\n",
    "m.on_interaction(handle_interaction)\n"
   ]
  },
  {
   "cell_type": "code",
   "execution_count": null,
   "metadata": {},
   "outputs": [],
   "source": [
    "strava_water = basemap_to_tiles(basemaps.Strava.Water)\n",
    "m.substitute_layer(strava_water, strava_all) #strava_water"
   ]
  },
  {
   "cell_type": "code",
   "execution_count": null,
   "metadata": {},
   "outputs": [],
   "source": [
    "# Adding the control\n",
    "m.add(LayersControl())"
   ]
  },
  {
   "cell_type": "code",
   "execution_count": null,
   "metadata": {},
   "outputs": [],
   "source": [
    "# Creating two maps side by side\n",
    "import ipywidgets\n",
    "\n",
    "ipywidgets.HBox([m, Map(center=[43.6, 1.44], zoom=10)])"
   ]
  },
  {
   "cell_type": "code",
   "execution_count": null,
   "metadata": {},
   "outputs": [],
   "source": [
    "m"
   ]
  },
  {
   "cell_type": "code",
   "execution_count": null,
   "metadata": {},
   "outputs": [],
   "source": [
    "from ipyleaflet import Map, Marker\n",
    "from ipywidgets import Layout\n",
    "\n",
    "center=(51.8, 4.5)\n",
    "basemap=basemaps.OpenStreetMap.Mapnik\n",
    "layout=Layout(width='500px', height='300px')\n",
    "m = Map(center=center, zoom=9,basemap=basemap, layout=layout)\n",
    "\n",
    "clicks=[]\n",
    "def handle_click(event,type,coordinates):\n",
    "    clicks.append([event,type,coordinates])\n",
    "\n",
    "marker = Marker(location=center, draggable=True, title=\"marker1\")\n",
    "marker.on_click(handle_click)\n",
    "m.add_layer(marker);\n",
    "\n",
    "m"
   ]
  },
  {
   "cell_type": "code",
   "execution_count": null,
   "metadata": {},
   "outputs": [],
   "source": [
    "clicks"
   ]
  },
  {
   "cell_type": "code",
   "execution_count": null,
   "metadata": {},
   "outputs": [],
   "source": [
    "print(Marker.observe.__doc__)"
   ]
  },
  {
   "cell_type": "code",
   "execution_count": null,
   "metadata": {},
   "outputs": [],
   "source": [
    "ff=layout.max_height\n",
    "ff"
   ]
  },
  {
   "cell_type": "code",
   "execution_count": null,
   "metadata": {},
   "outputs": [],
   "source": [
    "from ipyleaflet import Map, basemaps, basemap_to_tiles\n",
    "\n",
    "m = Map(center=(52.204793, 360.121558), zoom=9)\n",
    "\n",
    "dark_matter_layer = basemap_to_tiles(basemaps.CartoDB.DarkMatter)\n",
    "m.add_layer(dark_matter_layer)\n",
    "m"
   ]
  },
  {
   "cell_type": "code",
   "execution_count": null,
   "metadata": {},
   "outputs": [],
   "source": [
    "from ipywidgets import HTML\n",
    "\n",
    "from ipyleaflet import Map, Marker, Popup\n",
    "\n",
    "center = (52.204793, 360.121558)\n",
    "\n",
    "m = Map(center=center, zoom=9, close_popup_on_click=False)\n",
    "\n",
    "marker = Marker(location=(52.1, 359.9))\n",
    "m.add_layer(marker)\n",
    "\n",
    "message1 = HTML()\n",
    "message2 = HTML()\n",
    "message1.value = \"Try clicking the marker!\"\n",
    "message2.value = \"Hello <b>World</b>\"\n",
    "message2.placeholder = \"Some HTML\"\n",
    "message2.description = \"Some HTML\"\n",
    "\n",
    "# Popup with a given location on the map:\n",
    "popup = Popup(\n",
    "    location=center,\n",
    "    child=message1,\n",
    "    close_button=False,\n",
    "    auto_close=False,\n",
    "    close_on_escape_key=False\n",
    ")\n",
    "m.add_layer(popup)\n",
    "\n",
    "# Popup associated to a layer\n",
    "marker.popup = message2\n",
    "\n",
    "m"
   ]
  },
  {
   "cell_type": "code",
   "execution_count": null,
   "metadata": {},
   "outputs": [],
   "source": []
  }
 ],
 "metadata": {
  "interpreter": {
   "hash": "52a89f5df91fad0984dd77466e275ad1bbd3f3c0a21d3287ac9d08473a9fd829"
  },
  "kernelspec": {
   "display_name": "Python 3.9.12 64-bit ('base': conda)",
   "name": "python3"
  },
  "language_info": {
   "codemirror_mode": {
    "name": "ipython",
    "version": 3
   },
   "file_extension": ".py",
   "mimetype": "text/x-python",
   "name": "python",
   "nbconvert_exporter": "python",
   "pygments_lexer": "ipython3",
   "version": "3.9.12"
  },
  "orig_nbformat": 4
 },
 "nbformat": 4,
 "nbformat_minor": 2
}
