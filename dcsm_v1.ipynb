{
 "cells": [
  {
   "cell_type": "code",
   "execution_count": null,
   "metadata": {},
   "outputs": [],
   "source": [
    "#data\n",
    "import xarray as xr\n",
    "import numpy as np \n",
    "import zarr\n",
    "#plotting\n",
    "import matplotlib.pyplot as plt \n",
    "%matplotlib inline\n",
    "plt.rcParams['figure.figsize'] = [10, 5]\n",
    "# gui elements\n",
    "import ipywidgets as widgets\n",
    "from ipyleaflet import *"
   ]
  },
  {
   "cell_type": "code",
   "execution_count": null,
   "metadata": {},
   "outputs": [],
   "source": [
    "# History file form delft3d-fm run by Avelon's ZUNO-RMM model\n",
    "# The data has been converted from netcdf to zarr format\n",
    "# \n",
    "# The data is stored in Nextcloud with sharepath (almost regular http). Here at hetzner.de as a provider\n",
    "his=xr.open_zarr(\"https://nx7384.your-storageshare.de/apps/sharingpath/wetwin/public/DCSM-FM_0_5nm_0000_his.zarr\",consolidated=True)\n",
    "\n",
    "# get locations and names\n",
    "xs=his.station_x_coordinate.values\n",
    "ys=his.station_y_coordinate.values\n",
    "names=his.station_name.values.astype(str)"
   ]
  },
  {
   "cell_type": "code",
   "execution_count": null,
   "metadata": {},
   "outputs": [],
   "source": [
    "# create output widget for a plot\n",
    "out_plot = widgets.Output(layout = widgets.Layout(width=\"100%\",height='300px'))\n",
    " \n",
    "def update_timeseries_plot(locid):\n",
    "    with out_plot:\n",
    "        #plt.plot(his.time[:],his.waterlevel[:,locid])\n",
    "        ifirst=5000\n",
    "        ilast=7000 #max 315649\n",
    "        plt.plot(his.time[ifirst:ilast],his.waterlevel[ifirst:ilast,locid])\n",
    "        station=his.station_name[locid].values.astype(str)\n",
    "        plt.title(station)\n",
    "        out_plot.clear_output()\n",
    "        plt.show()\n"
   ]
  },
  {
   "cell_type": "code",
   "execution_count": null,
   "metadata": {},
   "outputs": [],
   "source": [
    "# background map zoomed at the RMM region\n",
    "m = Map(center=(55.5, 1.5), zoom=4, basemap=basemaps.OpenStreetMap.Mapnik)\n",
    "# \n",
    "from functools import partial\n",
    "\n",
    "def update_location(event,type,coordinates,locid=0):\n",
    "    update_timeseries_plot(locid)\n",
    "\n",
    "# add stations as markers\n",
    "station_markers=[]\n",
    "for i in range(len(xs)):\n",
    "    #marker=Marker(location=(ys[i], xs[i]),title=names[i])\n",
    "    marker=CircleMarker(location=(ys[i], xs[i]),radius=3)\n",
    "    f=partial(update_location,locid=i)\n",
    "    marker.on_click(f)\n",
    "    station_markers.append(marker)\n",
    "station_cluster = MarkerCluster(markers=station_markers,max_cluster_radius=3)\n",
    "m.add_layer(station_cluster);\n"
   ]
  },
  {
   "cell_type": "code",
   "execution_count": null,
   "metadata": {},
   "outputs": [],
   "source": [
    "# initial plot\n",
    "update_timeseries_plot(1)"
   ]
  },
  {
   "cell_type": "code",
   "execution_count": null,
   "metadata": {},
   "outputs": [],
   "source": [
    "#  Build app layout\n",
    "\n",
    "# big buttons for debugging\n",
    "def create_expanded_button(description, button_style):\n",
    "    return widgets.Button(description=description, button_style=button_style, \n",
    "        layout=widgets.Layout(height='auto', width='auto'))\n",
    "\n",
    "#top_left_button = create_expanded_button(\"Top left\", 'info')\n",
    "#top_right_button = create_expanded_button(\"Top right\", 'success')\n",
    "bottom_left_button = create_expanded_button(\"Bottom left\", 'danger')\n",
    "bottom_right_button = create_expanded_button(\"Bottom right\", 'warning')\n",
    "\n",
    "#app = widgets.TwoByTwoLayout(top_left=m, top_right=out_plot,\n",
    "#                            bottom_left=bottom_left_button, bottom_right=bottom_right_button)\n",
    "app = widgets.TwoByTwoLayout(top_left=m, top_right=out_plot)"
   ]
  },
  {
   "cell_type": "code",
   "execution_count": null,
   "metadata": {},
   "outputs": [],
   "source": [
    "display(app)"
   ]
  },
  {
   "cell_type": "code",
   "execution_count": null,
   "metadata": {},
   "outputs": [],
   "source": []
  }
 ],
 "metadata": {
  "interpreter": {
   "hash": "52a89f5df91fad0984dd77466e275ad1bbd3f3c0a21d3287ac9d08473a9fd829"
  },
  "kernelspec": {
   "display_name": "Python 3.9.12 64-bit ('base': conda)",
   "name": "python3"
  },
  "language_info": {
   "codemirror_mode": {
    "name": "ipython",
    "version": 3
   },
   "file_extension": ".py",
   "mimetype": "text/x-python",
   "name": "python",
   "nbconvert_exporter": "python",
   "pygments_lexer": "ipython3",
   "version": "3.9.12"
  },
  "orig_nbformat": 4,
  "vscode": {
   "interpreter": {
    "hash": "52a89f5df91fad0984dd77466e275ad1bbd3f3c0a21d3287ac9d08473a9fd829"
   }
  }
 },
 "nbformat": 4,
 "nbformat_minor": 2
}
