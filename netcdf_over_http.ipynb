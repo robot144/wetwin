{
 "cells": [
  {
   "cell_type": "code",
   "execution_count": null,
   "metadata": {},
   "outputs": [],
   "source": [
    "\n",
    "import numpy as np \n",
    "import xarray as xr\n",
    "import h5netcdf\n",
    "import fsspec\n",
    "# conda install h5netcdf -c conda-forge\n",
    "# conda install h5pyd -c conda-forge"
   ]
  },
  {
   "cell_type": "code",
   "execution_count": null,
   "metadata": {},
   "outputs": [],
   "source": [
    "myurl2=\"https://nx7384.your-storageshare.de/apps/sharingpath/wetwin/public/operationalData/H_fews_rmm_sobek3_lph2012_ha_bias_202206.nc\"\n",
    "#myurl2 =\"https://nx7384.your-storageshare.de/apps/sharingpath/wetwin/public/test/example.nc\"\n",
    "#yurl2 = \"https://nx7384.your-storageshare.de/s/wZweqesPRJxW3pf/download\" #url not using sharingpath, but a public link\n",
    "with fsspec.open(myurl2) as f:\n",
    "    ds = xr.open_dataset(f, engine='scipy') #need scipy for netcdf3\n",
    "    df = ds.to_dataframe()\n",
    "\n",
    "df"
   ]
  },
  {
   "cell_type": "code",
   "execution_count": null,
   "metadata": {},
   "outputs": [],
   "source": []
  }
 ],
 "metadata": {
  "kernelspec": {
   "display_name": "Python 3.9.12 ('base')",
   "language": "python",
   "name": "python3"
  },
  "language_info": {
   "codemirror_mode": {
    "name": "ipython",
    "version": 3
   },
   "file_extension": ".py",
   "mimetype": "text/x-python",
   "name": "python",
   "nbconvert_exporter": "python",
   "pygments_lexer": "ipython3",
   "version": "3.9.12"
  },
  "orig_nbformat": 4,
  "vscode": {
   "interpreter": {
    "hash": "52a89f5df91fad0984dd77466e275ad1bbd3f3c0a21d3287ac9d08473a9fd829"
   }
  }
 },
 "nbformat": 4,
 "nbformat_minor": 2
}
