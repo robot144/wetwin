{
 "cells": [
  {
   "cell_type": "code",
   "execution_count": null,
   "metadata": {},
   "outputs": [],
   "source": [
    "# time-series from csv\n",
    "import pandas as pd\n",
    "import datetime\n",
    "import matplotlib.pyplot as plt\n",
    "import numpy as np\n",
    "%matplotlib inline\n",
    "plt.rcParams['figure.figsize'] = [15, 5]"
   ]
  },
  {
   "cell_type": "code",
   "execution_count": null,
   "metadata": {},
   "outputs": [],
   "source": [
    "# load time-series from local file and plot\n",
    "def myparser(datetime_str):\n",
    "    return datetime.datetime.strptime(datetime_str, '%Y%m%d%H%M')\n",
    "\n",
    "df = pd.read_csv('data/series1.csv',sep='\\s+',header=11,parse_dates=[0],date_parser=myparser,names=[\"time\",\"sea_level\"])\n",
    "#print(df.to_string())\n",
    "plt.plot(df[\"time\"],df[\"sea_level\"])\n",
    "plt.ylabel(\"sea level [m]\")"
   ]
  },
  {
   "cell_type": "code",
   "execution_count": null,
   "metadata": {},
   "outputs": [],
   "source": [
    "# now read the data from a url\n",
    "myurl=\"https://nx7384.your-storageshare.de/apps/sharingpath/wetwin/public/test/series1.csv\"\n",
    "#data originates from matroos https://matroos.rws.nl/direct/get_series.php?loc=&source=&unit=&tstart=&tstop=\n",
    "print(\"url = \"+myurl)\n",
    "series1 = pd.read_table(myurl,sep='\\s+',header=11,parse_dates=[0],date_parser=myparser,names=[\"time\",\"sea_level\"])\n",
    "#print(series1.to_string())\n",
    "plt.plot(series1[\"time\"],series1[\"sea_level\"])\n",
    "plt.ylabel(\"sea level [m]\")"
   ]
  },
  {
   "cell_type": "code",
   "execution_count": null,
   "metadata": {},
   "outputs": [],
   "source": []
  }
 ],
 "metadata": {
  "interpreter": {
   "hash": "52a89f5df91fad0984dd77466e275ad1bbd3f3c0a21d3287ac9d08473a9fd829"
  },
  "kernelspec": {
   "display_name": "Python 3.9.12 64-bit ('base': conda)",
   "name": "python3"
  },
  "language_info": {
   "codemirror_mode": {
    "name": "ipython",
    "version": 3
   },
   "file_extension": ".py",
   "mimetype": "text/x-python",
   "name": "python",
   "nbconvert_exporter": "python",
   "pygments_lexer": "ipython3",
   "version": "3.9.12"
  },
  "orig_nbformat": 4
 },
 "nbformat": 4,
 "nbformat_minor": 2
}
