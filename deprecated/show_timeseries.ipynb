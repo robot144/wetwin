{
 "cells": [
  {
   "cell_type": "code",
   "execution_count": 21,
   "metadata": {},
   "outputs": [],
   "source": [
    "import ipywidgets as widgets\n",
    "import datetime as dt\n",
    "import pandas as pd\n",
    "import netCDF4 as nc\n",
    "import numpy as np\n",
    "import matplotlib.pyplot as plt\n",
    "%matplotlib inline\n",
    "plt.rcParams['figure.figsize'] = [10, 5]\n"
   ]
  },
  {
   "cell_type": "code",
   "execution_count": 22,
   "metadata": {},
   "outputs": [],
   "source": [
    "# Thanks to hatyan https://github.com/Deltares/hatyan for the core of this example\n",
    "url_prefix=\"http://uhslc.soest.hawaii.edu:80/opendap/rqds/global/hourly\" \n",
    "station_urls=[\"h825a.nc\",\"h822a.nc\"]\n",
    "station_names=[\"Cuxhaven\",\"Brest\"] #http://uhslc.soest.hawaii.edu/data/"
   ]
  },
  {
   "cell_type": "code",
   "execution_count": null,
   "metadata": {},
   "outputs": [],
   "source": [
    "ts_meas=[]\n",
    "ts_names=[]\n",
    "print(\"Downloading data per location:\")\n",
    "for i in np.arange(len(station_urls)):\n",
    "   ts_data = nc.Dataset(url_prefix+\"/\"+station_urls[i])\n",
    "   ts_name = station_names[i]\n",
    "   ts_names.append(ts_name)\n",
    "   print(nc.chartostring(ts_data['station_name'][:])[0]) #check name\n",
    "   #ts_values=ts_data[\"sea_level\"][0,:]/1000 #when you get server errors, then use this instead\n",
    "   #ts_values=ts_values[-1000:]\n",
    "   ts_values=ts_data[\"sea_level\"][0,-1000:]/1000\n",
    "   #ts_times=ts_data_times = nc.num2date(ts_data['time'][:],units=ts_data['time'].units, only_use_cftime_datetimes=False)\n",
    "   #ts_times=ts_times[-1000:]\n",
    "   ts_times=ts_data_times = nc.num2date(ts_data['time'][-1000:],units=ts_data['time'].units, only_use_cftime_datetimes=False)\n",
    "   ts_meas.append(pd.DataFrame({'values':ts_values},index=ts_times))\n",
    "print(\"Downloads finished\")"
   ]
  },
  {
   "cell_type": "code",
   "execution_count": 25,
   "metadata": {},
   "outputs": [
    {
     "data": {
      "application/vnd.jupyter.widget-view+json": {
       "model_id": "db1dbf4e07bf4665bcf5bc38cc6ef98c",
       "version_major": 2,
       "version_minor": 0
      },
      "text/plain": [
       "Dropdown(description='Location', options=('Cuxhaven', 'Brest'), value='Cuxhaven')"
      ]
     },
     "metadata": {},
     "output_type": "display_data"
    },
    {
     "data": {
      "application/vnd.jupyter.widget-view+json": {
       "model_id": "7c39ad7425714b9e93c8cdd20b7a5dee",
       "version_major": 2,
       "version_minor": 0
      },
      "text/plain": [
       "Output(layout=Layout(height='300px'))"
      ]
     },
     "metadata": {},
     "output_type": "display_data"
    }
   ],
   "source": [
    "# selection of stations with a dropdown list\n",
    "dd1=widgets.Dropdown(\n",
    "    options=ts_names,\n",
    "    value=ts_names[0],\n",
    "    description='Location',\n",
    ")\n",
    "display(dd1)\n",
    "\n",
    "# create output widget for a plot\n",
    "out_plot = widgets.Output(layout = widgets.Layout(height='300px'))\n",
    " \n",
    "def update_plot(change):\n",
    "    choice=dd1.value #or change[\"new\"]\n",
    "    with out_plot:\n",
    "        iplot=ts_names.index(choice)\n",
    "        plt.plot(ts_meas[iplot],color=\"C0\")\n",
    "        #plt.title(ts_names[iplot])\n",
    "        plt.title(choice)\n",
    "        out_plot.clear_output()\n",
    "        plt.show()\n",
    "\n",
    "dd1.observe(update_plot,names=\"value\")\n",
    "display(out_plot)\n",
    "update_plot(1)\n"
   ]
  },
  {
   "cell_type": "code",
   "execution_count": null,
   "metadata": {},
   "outputs": [],
   "source": [
    "#issue on laptop with ubuntu\n",
    "# ts_data = nc.Dataset(url_prefix+\"/\"+station_urls[0])\n",
    "# ts_values=ts_data[\"sea_level\"][0,-1000:]/1000 #indexing fails here, but works on other systems\n",
    "# ts_values"
   ]
  },
  {
   "cell_type": "code",
   "execution_count": null,
   "metadata": {},
   "outputs": [],
   "source": []
  }
 ],
 "metadata": {
  "interpreter": {
   "hash": "52a89f5df91fad0984dd77466e275ad1bbd3f3c0a21d3287ac9d08473a9fd829"
  },
  "kernelspec": {
   "display_name": "Python 3.9.12 64-bit ('base': conda)",
   "name": "python3"
  },
  "language_info": {
   "codemirror_mode": {
    "name": "ipython",
    "version": 3
   },
   "file_extension": ".py",
   "mimetype": "text/x-python",
   "name": "python",
   "nbconvert_exporter": "python",
   "pygments_lexer": "ipython3",
   "version": "3.9.12"
  },
  "vscode": {
   "interpreter": {
    "hash": "52a89f5df91fad0984dd77466e275ad1bbd3f3c0a21d3287ac9d08473a9fd829"
   }
  }
 },
 "nbformat": 4,
 "nbformat_minor": 2
}
