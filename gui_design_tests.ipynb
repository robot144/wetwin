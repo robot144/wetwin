{
 "cells": [
  {
   "cell_type": "markdown",
   "metadata": {},
   "source": []
  },
  {
   "cell_type": "markdown",
   "metadata": {},
   "source": [
    "# GUI design tests\n",
    "\n",
    "After adding a few buttons, it became clear that it's easy to write messy code for a GUI. A major difficulty are the numerous links between the graphical elements that contrasts to the desire to write reusable code. The default GUI elemenents in IPyWidgets are reusable, but they need call backs and update methods to function. It is possible o hardwire all this from the outside, but the number of links increases rapidly with the number of widgets on the screen.\n",
    "\n",
    "## Centralized variables\n",
    "\n",
    "By default, the variables represented eg by a slider are not linked to the other GUI elements. Below, we attempt an alternative approach where the widgets are linked by an object called a variable. The aim is to connect by default all elements called time for example. If a display needs two time variables, then these can be given different names."
   ]
  },
  {
   "cell_type": "code",
   "execution_count": null,
   "metadata": {},
   "outputs": [],
   "source": [
    "# Imports\n",
    "\n",
    "# arrays\n",
    "import xarray as xr\n",
    "import numpy as np \n",
    "import zarr\n",
    "# plotting\n",
    "import matplotlib.pyplot as plt \n",
    "%matplotlib widget\n",
    "plt.rcParams['figure.figsize'] = [10, 5]\n",
    "# gui elements\n",
    "import ipywidgets as widgets\n",
    "#from ipyleaflet import *"
   ]
  },
  {
   "cell_type": "code",
   "execution_count": null,
   "metadata": {},
   "outputs": [],
   "source": [
    "from wtcore.variables import *\n",
    "from wtcore.widgets import *\n",
    "from wtcore.plots import *"
   ]
  },
  {
   "cell_type": "markdown",
   "metadata": {},
   "source": [
    "## Demo of class Variable\n",
    "\n",
    "Several variable types have been wrapped in a class derived from Variable. These have a name, a label\n",
    "and you can attch an object that will be informed of changes to the variable, by a call like myobj.update(this_variable). \n",
    "There is a short demo below."
   ]
  },
  {
   "cell_type": "code",
   "execution_count": null,
   "metadata": {},
   "outputs": [],
   "source": [
    "\n",
    "# A variable with an integer in a range\n",
    "v1=IntVariable(\"layer\",\"Vertical layer number\",1,10,1)\n",
    "print(f'variable name={v1.name} label={v1.label}\\n')\n",
    "print(f'current {v1.name} has value {v1.value} of range {v1.min}:{v1.max}\\n')\n",
    "\n",
    "# A cange to the variable\n",
    "class DemoObserver:\n",
    "    def __init__(self):\n",
    "        self.current=None\n",
    "    def update(self,v):\n",
    "        self.current=v.value\n",
    "obs=DemoObserver()\n",
    "v1.observe(obs)\n",
    "v1.value=3 #change the value\n",
    "print(\"change value\\n\")\n",
    "print(f'current {v1.name} has value {v1.value} of range {v1.min}:{v1.max}\\n')\n",
    "print(f'the observer received value {obs.current}')\n",
    "\n",
    "print(\"---------------------------------\\n\")\n",
    "\n",
    "# a variable with a selection from a list\n",
    "v2=ListVariable(\"station\",\"Station name\",[\"Vlissingen\",\"Hoek van Holland\",\"Platform K13\"])\n",
    "print(f'variable name={v2.name} label={v2.label}\\n')\n",
    "print(f'current {v2.name} has value {v2.value} which denotes {v2.value_str} \\n')\n",
    "\n",
    "v2.value=1\n",
    "print(f'current {v2.name} has value {v2.value} which denotes {v2.value_str} \\n')\n",
    "\n",
    "v2.value_str=\"Platform K13\"\n",
    "print(f'current {v2.name} has value {v2.value} which denotes {v2.value_str} \\n')\n"
   ]
  },
  {
   "cell_type": "markdown",
   "metadata": {},
   "source": [
    "## Integers\n",
    "\n",
    "Selection from a range of integers is eg usefull to select a layer to be plotted.\n",
    "\n",
    "Below is a small demo that connects two sliders and a label."
   ]
  },
  {
   "cell_type": "code",
   "execution_count": null,
   "metadata": {},
   "outputs": [],
   "source": [
    "# Demo for Int slider and label.\n",
    "# The widgets are connected with the variable\n",
    "v2=IntVariable(\"itime\",\"Time-step\",1,100,1)\n",
    "sld2a=WtIntSlider(v2)\n",
    "sld2b=WtIntSlider(v2)\n",
    "lbl2=WtIntLabel(v2)\n",
    "display(sld2a,sld2b,lbl2)"
   ]
  },
  {
   "cell_type": "markdown",
   "metadata": {},
   "source": [
    "## A list of items\n",
    "\n",
    "A list of items can for example be usefull as a list of location names.\n",
    "\n",
    "Below is a small demo with a dropdown selection"
   ]
  },
  {
   "cell_type": "code",
   "execution_count": null,
   "metadata": {},
   "outputs": [],
   "source": [
    "v3=ListVariable(\"station\",\"Station name\",[\"Vlissingen\",\"Hoek van Holland\",\"Platform K13\"])\n",
    "sld3a=WtListDropdown(v3)\n",
    "sld3b=WtListDropdown(v3)\n",
    "lbl3=WtListLabel(v3)\n",
    "display(sld3a,sld3b,lbl3)"
   ]
  },
  {
   "cell_type": "code",
   "execution_count": null,
   "metadata": {},
   "outputs": [],
   "source": [
    "#TODO there is quite some activity after only one change\n",
    "v3.value=2"
   ]
  },
  {
   "cell_type": "markdown",
   "metadata": {},
   "source": [
    "## Plots\n",
    "\n",
    "wtPlot uses the ipywidgets.Output to create a link to the matplotlib plots. To use this class, you must extend it and implement the method redraw()."
   ]
  },
  {
   "cell_type": "code",
   "execution_count": null,
   "metadata": {},
   "outputs": [],
   "source": [
    "class MyPlot1(wtPlot):\n",
    "    def __init__(self,variables,*args,**kwargs):\n",
    "        super().__init__(variables,*args,**kwargs)\n",
    "        #expand here with your own data\n",
    "    def redraw(self):\n",
    "        ax=self.ax\n",
    "        period=self.variables[0].value\n",
    "        x = np.linspace(0, period * 2 * np.pi, 100)\n",
    "        ax.plot(x, np.sin(x), color='C0')\n",
    "        plt.title(\"Sine with changing period\")\n",
    "        ax.set_ylim([-4, 4])\n",
    "        ax.grid(True)\n",
    "\n",
    "int1=IntVariable(\"iperiod\",\"# cycles\",1,10,1) #define variable\n",
    "int1sld=WtIntSlider(int1) #create slider linked to variable int1\n",
    "p1=MyPlot1([int1]) #create plot linked to variable int1, too\n",
    "gui=widgets.VBox([int1sld,p1]) #vertical stack of slider and plot\n",
    "display(gui)\n",
    "p1.redraw()"
   ]
  },
  {
   "cell_type": "code",
   "execution_count": null,
   "metadata": {},
   "outputs": [],
   "source": []
  }
 ],
 "metadata": {
  "interpreter": {
   "hash": "52a89f5df91fad0984dd77466e275ad1bbd3f3c0a21d3287ac9d08473a9fd829"
  },
  "kernelspec": {
   "display_name": "Python 3.9.12 64-bit ('base': conda)",
   "name": "python3"
  },
  "language_info": {
   "codemirror_mode": {
    "name": "ipython",
    "version": 3
   },
   "file_extension": ".py",
   "mimetype": "text/x-python",
   "name": "python",
   "nbconvert_exporter": "python",
   "pygments_lexer": "ipython3",
   "version": "3.9.12"
  },
  "orig_nbformat": 4
 },
 "nbformat": 4,
 "nbformat_minor": 2
}
