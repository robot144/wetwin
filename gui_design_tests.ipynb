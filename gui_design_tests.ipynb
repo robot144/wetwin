{
 "cells": [
  {
   "cell_type": "markdown",
   "metadata": {},
   "source": []
  },
  {
   "cell_type": "markdown",
   "metadata": {},
   "source": [
    "# GUI design tests\n",
    "\n",
    "After adding a few buttons, it became clear that it's easy to write messy code for a GUI. A major difficulty are the numerous links between the graphical elements that contrasts to the desire to write reusable code. The default GUI elemenents in IPyWidgets are reusable, but they need call backs and update methods to function. It is possible o hardwire all this from the outside, but the number of links increases rapidly with the number of widgets on the screen.\n",
    "\n",
    "## Centralized variables\n",
    "\n",
    "By default, the variables represented eg by a slider are not linked to the other GUI elements. Below, we attempt an alternative approach where the widgets are linked by an object called a variable. The aim is to connect by default all elements called time for example. If a display needs two time variables, then these can be given different names."
   ]
  },
  {
   "cell_type": "code",
   "execution_count": 1,
   "metadata": {},
   "outputs": [],
   "source": [
    "# Imports\n",
    "\n",
    "# arrays\n",
    "import xarray as xr\n",
    "import numpy as np \n",
    "import zarr\n",
    "# plotting\n",
    "import matplotlib.pyplot as plt \n",
    "%matplotlib widget\n",
    "plt.rcParams['figure.figsize'] = [10, 5]\n",
    "# gui elements\n",
    "#import ipywidgets as widgets\n",
    "#from ipyleaflet import *"
   ]
  },
  {
   "cell_type": "code",
   "execution_count": 3,
   "metadata": {},
   "outputs": [],
   "source": [
    "from wtcore.variables import *\n",
    "from wtcore.widgets import *"
   ]
  },
  {
   "cell_type": "markdown",
   "metadata": {},
   "source": [
    "## Demo of class Variable\n",
    "\n",
    "Several variable types have been wrapped in a class derived from Variable. These have a name, a label\n",
    "and you can attch an object that will be informed of changes to the variable, by a call like myobj.update(this_variable). \n",
    "There is a short demo below."
   ]
  },
  {
   "cell_type": "code",
   "execution_count": null,
   "metadata": {},
   "outputs": [],
   "source": [
    "\n",
    "# A variable with an integer in a range\n",
    "v1=IntVariable(\"layer\",\"Vertical layer number\",1,10,1)\n",
    "print(f'variable name={v1.name} label={v1.label}\\n')\n",
    "print(f'current {v1.name} has value {v1.value} of range {v1.min}:{v1.max}\\n')\n",
    "\n",
    "# A cange to the variable\n",
    "class DemoObserver:\n",
    "    def __init__(self):\n",
    "        self.current=None\n",
    "    def update(self,v):\n",
    "        self.current=v.value\n",
    "obs=DemoObserver()\n",
    "v1.observe(obs)\n",
    "v1.value=3 #change the value\n",
    "print(\"change value\\n\")\n",
    "print(f'current {v1.name} has value {v1.value} of range {v1.min}:{v1.max}\\n')\n",
    "print(f'the observer received value {obs.current}')\n",
    "\n",
    "print(\"---------------------------------\\n\")\n",
    "\n",
    "# a variable with a selection from a list\n",
    "v2=ListVariable(\"station\",\"Station name\",[\"Vlissingen\",\"Hoek van Holland\",\"Platform K13\"])\n",
    "print(f'variable name={v2.name} label={v2.label}\\n')\n",
    "print(f'current {v2.name} has value {v2.value} which denotes {v2.value_str} \\n')\n",
    "\n",
    "v2.value=1\n",
    "print(f'current {v2.name} has value {v2.value} which denotes {v2.value_str} \\n')\n",
    "\n",
    "v2.value_str=\"Platform K13\"\n",
    "print(f'current {v2.name} has value {v2.value} which denotes {v2.value_str} \\n')\n"
   ]
  },
  {
   "cell_type": "markdown",
   "metadata": {},
   "source": [
    "## Integers\n",
    "\n",
    "Selection from a range of integers is eg usefull to select a layer to be plotted.\n",
    "\n",
    "Below is a small demo that connects two sliders and a label."
   ]
  },
  {
   "cell_type": "code",
   "execution_count": null,
   "metadata": {},
   "outputs": [],
   "source": [
    "# Demo for Int slider and label.\n",
    "# The widgets are connected with the variable\n",
    "v2=IntVariable(\"itime\",\"Time-step\",1,100,1)\n",
    "sld2a=WtIntSlider(v2)\n",
    "sld2b=WtIntSlider(v2)\n",
    "lbl2=WtIntLabel(v2)\n",
    "display(sld2a,sld2b,lbl2)"
   ]
  },
  {
   "cell_type": "markdown",
   "metadata": {},
   "source": [
    "## A list of items\n",
    "\n",
    "A list of items can for example be usefull as a list of location names.\n",
    "\n",
    "Below is a small demo with a dropdown selection"
   ]
  },
  {
   "cell_type": "code",
   "execution_count": 4,
   "metadata": {},
   "outputs": [
    {
     "data": {
      "application/vnd.jupyter.widget-view+json": {
       "model_id": "c3e0d24c67854701880169951dd2035e",
       "version_major": 2,
       "version_minor": 0
      },
      "text/plain": [
       "WtListDropdown(description='Station name', options=('Vlissingen', 'Hoek van Holland', 'Platform K13'), value='…"
      ]
     },
     "metadata": {},
     "output_type": "display_data"
    },
    {
     "data": {
      "application/vnd.jupyter.widget-view+json": {
       "model_id": "c5640eb7db1a4822b45d3adce910595a",
       "version_major": 2,
       "version_minor": 0
      },
      "text/plain": [
       "WtListDropdown(description='Station name', options=('Vlissingen', 'Hoek van Holland', 'Platform K13'), value='…"
      ]
     },
     "metadata": {},
     "output_type": "display_data"
    },
    {
     "data": {
      "application/vnd.jupyter.widget-view+json": {
       "model_id": "7b2354c9beba4c25af28c4dc6fa12985",
       "version_major": 2,
       "version_minor": 0
      },
      "text/plain": [
       "WtListLabel(value='Vlissingen', description='Station name')"
      ]
     },
     "metadata": {},
     "output_type": "display_data"
    }
   ],
   "source": [
    "v3=ListVariable(\"station\",\"Station name\",[\"Vlissingen\",\"Hoek van Holland\",\"Platform K13\"])\n",
    "sld3a=WtListDropdown(v3)\n",
    "sld3b=WtListDropdown(v3)\n",
    "lbl3=WtListLabel(v3)\n",
    "display(sld3a,sld3b,lbl3)"
   ]
  },
  {
   "cell_type": "code",
   "execution_count": 6,
   "metadata": {},
   "outputs": [
    {
     "name": "stdout",
     "output_type": "stream",
     "text": [
      "set value of station to 2\n",
      "\n",
      "dropdown receives signal from variable station. Value is Platform K13\n",
      "\n",
      "signal from dropdown\n",
      "set value of station to Platform K13\n",
      "\n",
      "dropdown receives signal from variable station. Value is Platform K13\n",
      "\n",
      "dropdown receives signal from variable station. Value is Platform K13\n",
      "\n",
      "signal from dropdown\n",
      "set value of station to Platform K13\n",
      "\n",
      "dropdown receives signal from variable station. Value is Platform K13\n",
      "\n",
      "dropdown receives signal from variable station. Value is Platform K13\n",
      "\n",
      "signal from variable station. Value is 2\n",
      "\n",
      "signal from variable station. Value is 2\n",
      "\n",
      "dropdown receives signal from variable station. Value is Platform K13\n",
      "\n",
      "signal from variable station. Value is 2\n",
      "\n"
     ]
    }
   ],
   "source": [
    "#TODO there is quite some activity after only one change\n",
    "v3.value=2"
   ]
  },
  {
   "cell_type": "code",
   "execution_count": null,
   "metadata": {},
   "outputs": [],
   "source": []
  }
 ],
 "metadata": {
  "interpreter": {
   "hash": "52a89f5df91fad0984dd77466e275ad1bbd3f3c0a21d3287ac9d08473a9fd829"
  },
  "kernelspec": {
   "display_name": "Python 3.9.12 64-bit ('base': conda)",
   "name": "python3"
  },
  "language_info": {
   "codemirror_mode": {
    "name": "ipython",
    "version": 3
   },
   "file_extension": ".py",
   "mimetype": "text/x-python",
   "name": "python",
   "nbconvert_exporter": "python",
   "pygments_lexer": "ipython3",
   "version": "3.9.12"
  },
  "orig_nbformat": 4
 },
 "nbformat": 4,
 "nbformat_minor": 2
}
