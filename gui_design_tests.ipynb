{
 "cells": [
  {
   "cell_type": "markdown",
   "metadata": {},
   "source": []
  },
  {
   "cell_type": "markdown",
   "metadata": {},
   "source": [
    "# GUI design tests\n",
    "\n",
    "After adding a few buttons, it became clear that it's easy to write messy code for a GUI. A major difficulty are the numerous links between the graphical elements that contrasts to the desire to write reusable code. The default GUI elemenents in IPyWidgets are reusable, but they need call backs and update methods to function. It is possible o hardwire all this from the outside, but the number of links increases rapidly with the number of widgets on the screen.\n",
    "\n",
    "## Centralized variables\n",
    "\n",
    "By default, the variables represented eg by a slider are not linked to the other GUI elements. Below, we attempt an alternative approach where the widgets are linked by an object called a variable. The aim is to connect by default all elements called time for example. If a display needs two time variables, then these can be given different names."
   ]
  },
  {
   "cell_type": "code",
   "execution_count": 1,
   "metadata": {},
   "outputs": [],
   "source": [
    "# Imports\n",
    "\n",
    "# arrays\n",
    "import xarray as xr\n",
    "import numpy as np \n",
    "import zarr\n",
    "# plotting\n",
    "import matplotlib.pyplot as plt \n",
    "%matplotlib widget\n",
    "plt.rcParams['figure.figsize'] = [10, 5]\n",
    "# gui elements\n",
    "import ipywidgets as widgets\n",
    "from ipyleaflet import *"
   ]
  },
  {
   "cell_type": "markdown",
   "metadata": {},
   "source": [
    "# "
   ]
  },
  {
   "cell_type": "code",
   "execution_count": 63,
   "metadata": {},
   "outputs": [],
   "source": [
    "#define Variables\n",
    "\n",
    "class Observer: #base class for observers\n",
    "    def update(self,v: Variable):\n",
    "        # you should override this function with something meaningful\n",
    "        pass\n",
    "\n",
    "class Variable:\n",
    "    def __init__(self,name: str, label:str):\n",
    "        self._name=name\n",
    "        self._label=label\n",
    "        self._observers=[]\n",
    "        self._value=None\n",
    "    def observe(self,observer:Observer): \n",
    "        # an observer is a function that is called when the variable is changed\n",
    "        # the only argument is the variable\n",
    "        self._observers.append(observer)\n",
    "    @property\n",
    "    def name(self): # to allow for temp=variable.name\n",
    "        return self._name\n",
    "    #make immutable\n",
    "    #@name.setter \n",
    "    #def name(self,new_name: str): # allow for variale.name=new_name\n",
    "    #    self._name=new_name\n",
    "    @property\n",
    "    def label(self):\n",
    "        return self._label\n",
    "    #@label.setter\n",
    "    #def label(self,new_label: str):\n",
    "    #    self._label=new_label\n",
    "\n",
    "class IntVariable(Variable):\n",
    "    def __init__(self,name: str,label: str, min_val:int, max_val:int, initial_val:int):\n",
    "        super().__init__(name,label)\n",
    "        self._min=min_val\n",
    "        self._max=max_val\n",
    "        self._value=initial_val\n",
    "    @property\n",
    "    def value(self):\n",
    "        return self._value\n",
    "    @value.setter\n",
    "    def value(self,new_value: int):\n",
    "        print(f\"set value of {self.name} to {new_value}\\n\")\n",
    "        #truncate to range\n",
    "        v=max(new_value,self._min)\n",
    "        v=min(v,self._max)\n",
    "        self._value=v\n",
    "        #inform observers\n",
    "        for obs in self._observers:\n",
    "            obs.update(self)\n",
    "    @property\n",
    "    def min(self):\n",
    "        return self._min\n",
    "    @property\n",
    "    def max(self):\n",
    "        return self._max\n"
   ]
  },
  {
   "cell_type": "code",
   "execution_count": 64,
   "metadata": {},
   "outputs": [
    {
     "name": "stdout",
     "output_type": "stream",
     "text": [
      "variable name=layer label=Vertical layer number\n",
      "\n",
      "current layer has value 1 of range 1:10\n",
      "\n",
      "set value of layer to 3\n",
      "\n",
      "change value\n",
      "\n",
      "current layer has value 3 of range 1:10\n",
      "\n"
     ]
    }
   ],
   "source": [
    "#demo of Variable class\n",
    "v1=IntVariable(\"layer\",\"Vertical layer number\",1,10,1)\n",
    "print(f'variable name={v1.name} label={v1.label}\\n')\n",
    "print(f'current {v1.name} has value {v1.value} of range {v1.min}:{v1.max}\\n')\n",
    "\n",
    "v1.value=3\n",
    "print(\"change value\\n\")\n",
    "print(f'current {v1.name} has value {v1.value} of range {v1.min}:{v1.max}\\n')\n"
   ]
  },
  {
   "cell_type": "code",
   "execution_count": 82,
   "metadata": {},
   "outputs": [],
   "source": [
    "class WtIntSlider(widgets.IntSlider):\n",
    "    def __init__(self,v: IntVariable, orientation='horizontal'):\n",
    "        super().__init__(value=v.value, min=v.min, max=v.max, step=1,\n",
    "        description=v.label, disabled=False, continuous_update=False,\n",
    "        orientation=orientation) #, readout=True, readout_format='d' \n",
    "        self._variable=v\n",
    "        self.observe(self.update_from_slider,names=\"value\")\n",
    "        v.observe(self)\n",
    "    def update_from_slider(self,obj):\n",
    "        print(\"signal from slider\")\n",
    "        self._variable.value=self.value\n",
    "    def update(self,v: IntVariable):\n",
    "        print(f\"slider receives signal from variable {v.name}. Value is {v.value}\\n\")\n",
    "        self.value=str(v.value)\n",
    "\n",
    "class WtIntLabel(widgets.Label):\n",
    "    def __init__(self,v: IntVariable, orientation='horizontal'):\n",
    "        super().__init__(value=str(v.value), description=v.label, \n",
    "        disabled=False, orientation=orientation)\n",
    "        self._variable=v\n",
    "        v.observe(self)\n",
    "    def update(self,v: IntVariable):\n",
    "        print(f\"signal from variable {v.name}. Value is {v.value}\\n\")\n",
    "        self.value=str(v.value)"
   ]
  },
  {
   "cell_type": "code",
   "execution_count": 83,
   "metadata": {},
   "outputs": [
    {
     "data": {
      "application/vnd.jupyter.widget-view+json": {
       "model_id": "6d6a3ae6293b4e5eb9b28a6efab5f4af",
       "version_major": 2,
       "version_minor": 0
      },
      "text/plain": [
       "WtIntSlider(value=1, continuous_update=False, description='Time-step', min=1)"
      ]
     },
     "metadata": {},
     "output_type": "display_data"
    },
    {
     "data": {
      "application/vnd.jupyter.widget-view+json": {
       "model_id": "63c940c43e704e49b4ca5e17f4a8833c",
       "version_major": 2,
       "version_minor": 0
      },
      "text/plain": [
       "WtIntSlider(value=1, continuous_update=False, description='Time-step', min=1)"
      ]
     },
     "metadata": {},
     "output_type": "display_data"
    },
    {
     "data": {
      "application/vnd.jupyter.widget-view+json": {
       "model_id": "8905f90687844967a6d3091b0fe6a9f2",
       "version_major": 2,
       "version_minor": 0
      },
      "text/plain": [
       "WtIntLabel(value='1', description='Time-step')"
      ]
     },
     "metadata": {},
     "output_type": "display_data"
    }
   ],
   "source": [
    "# Demo for Int slider and label.\n",
    "# The widgets are connected with the variable\n",
    "v2=IntVariable(\"itime\",\"Time-step\",1,100,1)\n",
    "sld2a=WtIntSlider(v2)\n",
    "sld2b=WtIntSlider(v2)\n",
    "lbl2=WtIntLabel(v2)\n",
    "display(sld2a,sld2b,lbl2)\n"
   ]
  },
  {
   "cell_type": "code",
   "execution_count": 84,
   "metadata": {},
   "outputs": [
    {
     "data": {
      "text/plain": [
       "([WtIntSlider(value=55, continuous_update=False, description='Time-step', min=1),\n",
       "  WtIntSlider(value=55, continuous_update=False, description='Time-step', min=1),\n",
       "  WtIntLabel(value='55', description='Time-step')],\n",
       " 55)"
      ]
     },
     "execution_count": 84,
     "metadata": {},
     "output_type": "execute_result"
    }
   ],
   "source": [
    "v2._observers, v2._value"
   ]
  },
  {
   "cell_type": "code",
   "execution_count": null,
   "metadata": {},
   "outputs": [],
   "source": []
  }
 ],
 "metadata": {
  "interpreter": {
   "hash": "52a89f5df91fad0984dd77466e275ad1bbd3f3c0a21d3287ac9d08473a9fd829"
  },
  "kernelspec": {
   "display_name": "Python 3.9.12 64-bit ('base': conda)",
   "name": "python3"
  },
  "language_info": {
   "codemirror_mode": {
    "name": "ipython",
    "version": 3
   },
   "file_extension": ".py",
   "mimetype": "text/x-python",
   "name": "python",
   "nbconvert_exporter": "python",
   "pygments_lexer": "ipython3",
   "version": "3.9.12"
  },
  "orig_nbformat": 4
 },
 "nbformat": 4,
 "nbformat_minor": 2
}
