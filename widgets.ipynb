{
 "cells": [
  {
   "cell_type": "code",
   "execution_count": null,
   "metadata": {},
   "outputs": [],
   "source": [
    "import ipywidgets as widgets\n",
    "import numpy as np \n",
    "import matplotlib.pyplot as plt"
   ]
  },
  {
   "cell_type": "code",
   "execution_count": null,
   "metadata": {},
   "outputs": [],
   "source": [
    "# create and show a slider\n",
    "sld1=widgets.IntSlider()\n",
    "display(sld1)\n",
    "lbl_sld1=widgets.Label(\"-\")\n",
    "display(lbl_sld1)\n",
    "def update_slider_label(sld):\n",
    "    n=sld1.value\n",
    "    lbl_sld1.value=str(n)\n",
    "sld1.observe(update_slider_label,names=\"value\") # calls a function when you change the value."
   ]
  },
  {
   "cell_type": "code",
   "execution_count": null,
   "metadata": {},
   "outputs": [],
   "source": [
    "lbl1=widgets.Label(\"number 1\")\n",
    "display(lbl1)\n",
    "text1=widgets.Text(\"0\")\n",
    "display(text1)\n",
    "lbl2=widgets.Label(\"number 2\")\n",
    "display(lbl2)\n",
    "text2=widgets.Text(\"0\")\n",
    "display(text2)\n",
    "btn=widgets.Button(description=\"add\")\n",
    "display(btn)\n",
    "lbl3=widgets.Label(\"answer\")\n",
    "display(lbl3)\n",
    "def add(b):\n",
    "    x=int(text1.value)\n",
    "    y=int(text2.value)\n",
    "    lbl3.value=\"result is \"+str(x+y) #\"%f + %f = %f\"%(x,y,x+y)\n",
    "add(btn)\n",
    "btn.on_click(add)\n"
   ]
  },
  {
   "cell_type": "code",
   "execution_count": null,
   "metadata": {},
   "outputs": [],
   "source": [
    "dd1=widgets.Dropdown(\n",
    "    options=[\"Cuxhaven\",\"Brest\"],\n",
    "    value=\"Cuxhaven\",\n",
    "    description='Location:',\n",
    ")\n",
    "display(dd1)\n",
    "lbl_dd1=widgets.Label(dd1.value)\n",
    "display(lbl_dd1)\n",
    "def update_label(dd):\n",
    "    text=dd1.value\n",
    "    lbl_dd1.value=text\n",
    "dd1.observe(update_label,names=\"value\")"
   ]
  },
  {
   "cell_type": "code",
   "execution_count": null,
   "metadata": {},
   "outputs": [],
   "source": [
    "\n",
    "int1=widgets.BoundedIntText(\n",
    "    value=3,\n",
    "    min=0,\n",
    "    max=10,\n",
    "    step=1,\n",
    "    description='Text:',\n",
    "    disabled=False\n",
    ")\n",
    "display(int1)\n",
    "int1.value+2"
   ]
  },
  {
   "cell_type": "code",
   "execution_count": null,
   "metadata": {},
   "outputs": [],
   "source": [
    "dd2=widgets.Dropdown(\n",
    "    options=[\"sin\",\"cos\"],\n",
    "    value=\"sin\",\n",
    "    description='Function:',\n",
    ")\n",
    "display(dd2)\n",
    "\n",
    "# a label as an extra check on changes\n",
    "lbl_dd2=widgets.Label(dd2.value)\n",
    "display(lbl_dd2)\n",
    "def update_label2(dd):\n",
    "    text=dd2.value\n",
    "    lbl_dd2.value=text\n",
    "dd2.observe(update_label2,names=\"value\")\n",
    "\n",
    "\n",
    "out_plot = widgets.Output(layout = widgets.Layout(height='300px'))\n",
    " \n",
    "\n",
    "x = np.linspace(0, 4 * np.pi, 100)\n",
    "\n",
    "def my_fun(x,choice=\"sin\"):\n",
    "    if choice==\"sin\":\n",
    "        return np.sin(x)\n",
    "    else:\n",
    "        return np.cos(x)\n",
    "\n",
    "def update_plot(change):\n",
    "    choice=dd2.value #or change[\"new\"]\n",
    "    y=my_fun(x,choice)\n",
    "    with out_plot:\n",
    "        plt.plot(x,y,color=\"C0\")\n",
    "        plt.title(choice)\n",
    "        out_plot.clear_output()\n",
    "        plt.show()\n",
    "\n",
    "dd2.observe(update_plot,names=\"value\")\n",
    "display(out_plot)\n",
    "update_plot(1)"
   ]
  },
  {
   "cell_type": "code",
   "execution_count": null,
   "metadata": {},
   "outputs": [],
   "source": [
    "from ipywidgets import TwoByTwoLayout\n",
    "from ipywidgets import Button, Layout, jslink, IntText, IntSlider\n",
    "\n",
    "top_left_text = IntText(description='Top left', layout=Layout(width='auto', height='auto'))\n",
    "top_right_text = IntText(description='Top right', layout=Layout(width='auto', height='auto'))\n",
    "bottom_left_slider = IntSlider(description='Bottom left', layout=Layout(width='auto', height='auto'))\n",
    "bottom_right_slider = IntSlider(description='Bottom right', layout=Layout(width='auto', height='auto'))\n",
    "\n",
    "app = TwoByTwoLayout(top_left=top_left_text, top_right=top_right_text,\n",
    "                     bottom_left=bottom_left_slider, bottom_right=bottom_right_slider)\n",
    "\n",
    "link_left = jslink((app.top_left, 'value'), (app.bottom_left, 'value'))\n",
    "link_right = jslink((app.top_right, 'value'), (app.bottom_right, 'value'))\n",
    "app.bottom_right.value = 30\n",
    "app.top_left.value = 25\n",
    "app"
   ]
  },
  {
   "cell_type": "code",
   "execution_count": null,
   "metadata": {},
   "outputs": [],
   "source": [
    "from ipywidgets import AppLayout, Button, Layout\n",
    "def create_expanded_button(description, button_style):\n",
    "    return Button(description=description, button_style=button_style, layout=Layout(height='auto', width='auto'))\n",
    "\n",
    "header_button = create_expanded_button('Header', 'success')\n",
    "left_button = create_expanded_button('Left', 'info')\n",
    "center_button = create_expanded_button('Center', 'warning')\n",
    "right_button = create_expanded_button('Right', 'info')\n",
    "footer_button = create_expanded_button('Footer', 'success')\n",
    "\n",
    "a=AppLayout(header=header_button,\n",
    "          left_sidebar=left_button,\n",
    "          center=None,\n",
    "          right_sidebar=right_button,\n",
    "          footer=footer_button,\n",
    "          width=\"800px\",height=\"500px\",align_self=\"stretch\")\n",
    "display(a)"
   ]
  },
  {
   "cell_type": "code",
   "execution_count": null,
   "metadata": {},
   "outputs": [],
   "source": [
    "# Get size of window via javascript\n",
    "# TODO: DOESN'T WORK IN VS CODE, USING A DEFAULT INSTEAD\n",
    "wsize = [800,500] #global for result\n",
    "\n",
    "def win_size(width,height):\n",
    "    global win_size\n",
    "    wsize[:]=[width,height]\n",
    "    \n",
    "from IPython.display import display, HTML, Javascript\n",
    "js = \"\"\"\n",
    "var width=window.innerWidth.toString();\n",
    "var height=window.innerHeight.toString();\n",
    "var call1=\"win_size(\" + width + \",\" + height + \")\"\n",
    "IPython.notebook.kernel.execute(call1);\n",
    "\"\"\"\n",
    "display(Javascript(js))"
   ]
  },
  {
   "cell_type": "code",
   "execution_count": null,
   "metadata": {},
   "outputs": [],
   "source": [
    "wsize"
   ]
  },
  {
   "cell_type": "code",
   "execution_count": null,
   "metadata": {},
   "outputs": [],
   "source": [
    "# Get size of window via javascript\n",
    "# TODO: DOESN'T CHANGE GLOBAL IN VS CODE\n",
    "global wsize\n",
    "wsize = [0,0] #global for result\n",
    "\n",
    "def win_size(width,height):\n",
    "    global wsize\n",
    "    wsize[:]=[width,height]\n",
    "    \n",
    "from IPython.display import display, HTML, Javascript\n",
    "html1 = \"\"\"\n",
    "<p id=\"demo\"></p>\n",
    "\n",
    "<script>\n",
    "var width=screen.availWidth.toString();\n",
    "var height=window.innerHeight.toString();\n",
    "var call1=\"win_size(\" + width + \",\" + height + \")\";\n",
    "document.getElementById(\"demo\").innerHTML = call1;\n",
    "IPython.notebook.kernel.execute(call1);\n",
    "</script>\n",
    "\"\"\"\n",
    "display(HTML(html1))"
   ]
  },
  {
   "cell_type": "code",
   "execution_count": null,
   "metadata": {},
   "outputs": [],
   "source": [
    "#after running the previous cell the variable wsize will contain screen size\n",
    "wsize"
   ]
  },
  {
   "cell_type": "code",
   "execution_count": null,
   "metadata": {},
   "outputs": [],
   "source": [
    "from ipywidgets import Button, Layout, TwoByTwoLayout\n",
    "\n",
    "def create_expanded_button(description, button_style):\n",
    "    return Button(description=description, button_style=button_style, layout=Layout(height='auto', width='auto'))\n",
    "\n",
    "top_left_button = create_expanded_button(\"Top left\", 'info')\n",
    "top_right_button = create_expanded_button(\"Top right\", 'success')\n",
    "bottom_left_button = create_expanded_button(\"Bottom left\", 'danger')\n",
    "bottom_right_button = create_expanded_button(\"Bottom right\", 'warning')\n",
    "\n",
    "layout_2x2 = TwoByTwoLayout(top_left=top_left_button,\n",
    "                            top_right=top_right_button,\n",
    "                            bottom_left=bottom_left_button,\n",
    "                            bottom_right=bottom_right_button)\n",
    "layout_2x2"
   ]
  },
  {
   "cell_type": "code",
   "execution_count": null,
   "metadata": {},
   "outputs": [],
   "source": [
    "%matplotlib widget\n",
    "import ipywidgets as widgets\n",
    "import matplotlib.pyplot as plt\n",
    "import numpy as np\n",
    "# set up plot\n",
    "fig, ax = plt.subplots(figsize=(6, 4))\n",
    " \n",
    "# generate x values\n",
    "x = np.linspace(0, 2 * np.pi, 100)\n",
    " \n",
    " \n",
    "def my_sine(x, w, amp, phi):\n",
    "    return amp*np.sin(w * (x-phi))\n",
    " \n",
    " \n",
    "@widgets.interact(w=(0, 10, 1), amp=(0, 4, .1), phi=(0, 2*np.pi+0.01, 0.01))\n",
    "def update(w = 1.0, amp=1, phi=0):\n",
    "    \"\"\"Remove old lines from plot and plot new one\"\"\"\n",
    "    ax.clear()\n",
    "    #[l.remove() for l in ax.lines]\n",
    "    ax.plot(x, my_sine(x, w, amp, phi), color='C0')\n",
    "    plt.title(\"bla\")\n",
    "    ax.set_ylim([-4, 4])\n",
    "    ax.grid(True)\n"
   ]
  },
  {
   "cell_type": "code",
   "execution_count": null,
   "metadata": {},
   "outputs": [],
   "source": [
    "isinstance(ax,plt.matplotlib.axes.Axes)"
   ]
  },
  {
   "cell_type": "code",
   "execution_count": null,
   "metadata": {},
   "outputs": [],
   "source": []
  }
 ],
 "metadata": {
  "interpreter": {
   "hash": "52a89f5df91fad0984dd77466e275ad1bbd3f3c0a21d3287ac9d08473a9fd829"
  },
  "kernelspec": {
   "display_name": "Python 3.9.12 64-bit ('base': conda)",
   "name": "python3"
  },
  "language_info": {
   "codemirror_mode": {
    "name": "ipython",
    "version": 3
   },
   "file_extension": ".py",
   "mimetype": "text/x-python",
   "name": "python",
   "nbconvert_exporter": "python",
   "pygments_lexer": "ipython3",
   "version": "3.9.12"
  },
  "vscode": {
   "interpreter": {
    "hash": "52a89f5df91fad0984dd77466e275ad1bbd3f3c0a21d3287ac9d08473a9fd829"
   }
  }
 },
 "nbformat": 4,
 "nbformat_minor": 2
}
