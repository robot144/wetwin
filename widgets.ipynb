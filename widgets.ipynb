{
 "cells": [
  {
   "cell_type": "code",
   "execution_count": 1,
   "metadata": {},
   "outputs": [],
   "source": [
    "import ipywidgets as widgets\n",
    "import matplotlib.pyplot as plt\n",
    "import numpy as np\n",
    "%matplotlib inline"
   ]
  },
  {
   "cell_type": "code",
   "execution_count": 2,
   "metadata": {},
   "outputs": [
    {
     "data": {
      "application/vnd.jupyter.widget-view+json": {
       "model_id": "4c0dddd90863444d9c2139ac05550507",
       "version_major": 2,
       "version_minor": 0
      },
      "text/plain": [
       "IntSlider(value=0)"
      ]
     },
     "metadata": {},
     "output_type": "display_data"
    },
    {
     "data": {
      "application/vnd.jupyter.widget-view+json": {
       "model_id": "88fd61c9c73f4c5cbf72ddb9398ee54d",
       "version_major": 2,
       "version_minor": 0
      },
      "text/plain": [
       "Label(value='-')"
      ]
     },
     "metadata": {},
     "output_type": "display_data"
    }
   ],
   "source": [
    "# create and show a slider\n",
    "sld1=widgets.IntSlider()\n",
    "display(sld1)\n",
    "lbl_sld1=widgets.Label(\"-\")\n",
    "display(lbl_sld1)\n",
    "def update_slider_label(sld):\n",
    "    n=sld1.value\n",
    "    lbl_sld1.value=str(n)\n",
    "sld1.observe(update_slider_label,names=\"value\") # calls a function when you change the value."
   ]
  },
  {
   "cell_type": "code",
   "execution_count": 3,
   "metadata": {},
   "outputs": [
    {
     "data": {
      "application/vnd.jupyter.widget-view+json": {
       "model_id": "28fdc57eda694b9ba095692742b6fd7e",
       "version_major": 2,
       "version_minor": 0
      },
      "text/plain": [
       "Label(value='number 1')"
      ]
     },
     "metadata": {},
     "output_type": "display_data"
    },
    {
     "data": {
      "application/vnd.jupyter.widget-view+json": {
       "model_id": "4a95fe68238c4bc6a9be6b99384a08d8",
       "version_major": 2,
       "version_minor": 0
      },
      "text/plain": [
       "Text(value='0')"
      ]
     },
     "metadata": {},
     "output_type": "display_data"
    },
    {
     "data": {
      "application/vnd.jupyter.widget-view+json": {
       "model_id": "fbe6fe7a4bf94342ba42e9aecd731826",
       "version_major": 2,
       "version_minor": 0
      },
      "text/plain": [
       "Label(value='number 2')"
      ]
     },
     "metadata": {},
     "output_type": "display_data"
    },
    {
     "data": {
      "application/vnd.jupyter.widget-view+json": {
       "model_id": "d023e493d53c43f08503472f1f5b675f",
       "version_major": 2,
       "version_minor": 0
      },
      "text/plain": [
       "Text(value='0')"
      ]
     },
     "metadata": {},
     "output_type": "display_data"
    },
    {
     "data": {
      "application/vnd.jupyter.widget-view+json": {
       "model_id": "9de13221862d4bb4b81fe82c85b91958",
       "version_major": 2,
       "version_minor": 0
      },
      "text/plain": [
       "Button(description='add', style=ButtonStyle())"
      ]
     },
     "metadata": {},
     "output_type": "display_data"
    },
    {
     "data": {
      "application/vnd.jupyter.widget-view+json": {
       "model_id": "a5d0c72791044b6a87c4dc09ec9d309d",
       "version_major": 2,
       "version_minor": 0
      },
      "text/plain": [
       "Label(value='answer')"
      ]
     },
     "metadata": {},
     "output_type": "display_data"
    }
   ],
   "source": [
    "lbl1=widgets.Label(\"number 1\")\n",
    "display(lbl1)\n",
    "text1=widgets.Text(\"0\")\n",
    "display(text1)\n",
    "lbl2=widgets.Label(\"number 2\")\n",
    "display(lbl2)\n",
    "text2=widgets.Text(\"0\")\n",
    "display(text2)\n",
    "btn=widgets.Button(description=\"add\")\n",
    "display(btn)\n",
    "lbl3=widgets.Label(\"answer\")\n",
    "display(lbl3)\n",
    "def add(b):\n",
    "    x=int(text1.value)\n",
    "    y=int(text2.value)\n",
    "    lbl3.value=\"result is \"+str(x+y) #\"%f + %f = %f\"%(x,y,x+y)\n",
    "add(btn)\n",
    "btn.on_click(add)\n"
   ]
  },
  {
   "cell_type": "code",
   "execution_count": 4,
   "metadata": {},
   "outputs": [
    {
     "data": {
      "application/vnd.jupyter.widget-view+json": {
       "model_id": "46b61280627b4edf82f35c7b621765eb",
       "version_major": 2,
       "version_minor": 0
      },
      "text/plain": [
       "Dropdown(description='Location:', options=('Cuxhaven', 'Brest'), value='Cuxhaven')"
      ]
     },
     "metadata": {},
     "output_type": "display_data"
    },
    {
     "data": {
      "application/vnd.jupyter.widget-view+json": {
       "model_id": "fbaac49b0da4489db4c277d0d89ad7c7",
       "version_major": 2,
       "version_minor": 0
      },
      "text/plain": [
       "Label(value='Cuxhaven')"
      ]
     },
     "metadata": {},
     "output_type": "display_data"
    }
   ],
   "source": [
    "dd1=widgets.Dropdown(\n",
    "    options=[\"Cuxhaven\",\"Brest\"],\n",
    "    value=\"Cuxhaven\",\n",
    "    description='Location:',\n",
    ")\n",
    "display(dd1)\n",
    "lbl_dd1=widgets.Label(dd1.value)\n",
    "display(lbl_dd1)\n",
    "def update_label(dd):\n",
    "    text=dd1.value\n",
    "    lbl_dd1.value=text\n",
    "dd1.observe(update_label,names=\"value\")"
   ]
  },
  {
   "cell_type": "code",
   "execution_count": 5,
   "metadata": {},
   "outputs": [
    {
     "data": {
      "application/vnd.jupyter.widget-view+json": {
       "model_id": "26c47d5d4fe44706a5aec533b293cab8",
       "version_major": 2,
       "version_minor": 0
      },
      "text/plain": [
       "BoundedIntText(value=3, description='Text:', max=10)"
      ]
     },
     "metadata": {},
     "output_type": "display_data"
    },
    {
     "data": {
      "text/plain": [
       "5"
      ]
     },
     "execution_count": 5,
     "metadata": {},
     "output_type": "execute_result"
    }
   ],
   "source": [
    "\n",
    "int1=widgets.BoundedIntText(\n",
    "    value=3,\n",
    "    min=0,\n",
    "    max=10,\n",
    "    step=1,\n",
    "    description='Text:',\n",
    "    disabled=False\n",
    ")\n",
    "display(int1)\n",
    "int1.value+2"
   ]
  },
  {
   "cell_type": "code",
   "execution_count": null,
   "metadata": {},
   "outputs": [],
   "source": [
    "dd2=widgets.Dropdown(\n",
    "    options=[\"sin\",\"cos\"],\n",
    "    value=\"sin\",\n",
    "    description='Function:',\n",
    ")\n",
    "display(dd2)\n",
    "\n",
    "# a label as an extra check on changes\n",
    "lbl_dd2=widgets.Label(dd2.value)\n",
    "display(lbl_dd2)\n",
    "def update_label2(dd):\n",
    "    text=dd2.value\n",
    "    lbl_dd2.value=text\n",
    "dd2.observe(update_label2,names=\"value\")\n",
    "\n",
    "\n",
    "out_plot = widgets.Output(layout = widgets.Layout(height='300px'))\n",
    " \n",
    "\n",
    "x = np.linspace(0, 4 * np.pi, 100)\n",
    "\n",
    "def my_fun(x,choice=\"sin\"):\n",
    "    if choice==\"sin\":\n",
    "        return np.sin(x)\n",
    "    else:\n",
    "        return np.cos(x)\n",
    "\n",
    "def update_plot(change):\n",
    "    choice=dd2.value #or change[\"new\"]\n",
    "    y=my_fun(x,choice)\n",
    "    with out_plot:\n",
    "        plt.plot(x,y,color=\"C0\")\n",
    "        plt.title(choice)\n",
    "        out_plot.clear_output()\n",
    "        plt.show()\n",
    "\n",
    "dd2.observe(update_plot,names=\"value\")\n",
    "display(out_plot)\n",
    "update_plot(1)"
   ]
  },
  {
   "cell_type": "code",
   "execution_count": null,
   "metadata": {},
   "outputs": [],
   "source": []
  }
 ],
 "metadata": {
  "interpreter": {
   "hash": "52a89f5df91fad0984dd77466e275ad1bbd3f3c0a21d3287ac9d08473a9fd829"
  },
  "kernelspec": {
   "display_name": "Python 3.9.12 64-bit ('base': conda)",
   "name": "python3"
  },
  "language_info": {
   "codemirror_mode": {
    "name": "ipython",
    "version": 3
   },
   "file_extension": ".py",
   "mimetype": "text/x-python",
   "name": "python",
   "nbconvert_exporter": "python",
   "pygments_lexer": "ipython3",
   "version": "3.9.12"
  },
  "vscode": {
   "interpreter": {
    "hash": "52a89f5df91fad0984dd77466e275ad1bbd3f3c0a21d3287ac9d08473a9fd829"
   }
  }
 },
 "nbformat": 4,
 "nbformat_minor": 2
}
