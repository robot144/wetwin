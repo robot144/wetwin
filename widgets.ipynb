{
 "cells": [
  {
   "cell_type": "code",
   "execution_count": 1,
   "metadata": {},
   "outputs": [],
   "source": [
    "import ipywidgets as widgets\n",
    "import matplotlib.pyplot as plt\n",
    "import numpy as np\n",
    "%matplotlib inline"
   ]
  },
  {
   "cell_type": "code",
   "execution_count": 2,
   "metadata": {},
   "outputs": [
    {
     "data": {
      "application/vnd.jupyter.widget-view+json": {
       "model_id": "a3789f12a5bb4d06b031fd2f13966377",
       "version_major": 2,
       "version_minor": 0
      },
      "text/plain": [
       "IntSlider(value=0)"
      ]
     },
     "metadata": {},
     "output_type": "display_data"
    },
    {
     "data": {
      "application/vnd.jupyter.widget-view+json": {
       "model_id": "39aaeeea2bb3415d8e016d71c700105d",
       "version_major": 2,
       "version_minor": 0
      },
      "text/plain": [
       "Label(value='-')"
      ]
     },
     "metadata": {},
     "output_type": "display_data"
    }
   ],
   "source": [
    "# create and show a slider\n",
    "sld1=widgets.IntSlider()\n",
    "display(sld1)\n",
    "lbl_sld1=widgets.Label(\"-\")\n",
    "display(lbl_sld1)\n",
    "def update_slider_label(sld):\n",
    "    n=sld1.value\n",
    "    lbl_sld1.value=str(n)\n",
    "sld1.observe(update_slider_label,names=\"value\") # calls a function when you change the value."
   ]
  },
  {
   "cell_type": "code",
   "execution_count": 3,
   "metadata": {},
   "outputs": [
    {
     "data": {
      "application/vnd.jupyter.widget-view+json": {
       "model_id": "f820164b77da4a898e865222aa15d6c5",
       "version_major": 2,
       "version_minor": 0
      },
      "text/plain": [
       "Label(value='number 1')"
      ]
     },
     "metadata": {},
     "output_type": "display_data"
    },
    {
     "data": {
      "application/vnd.jupyter.widget-view+json": {
       "model_id": "00d77ec4f19943a0a40e6450cd71fef1",
       "version_major": 2,
       "version_minor": 0
      },
      "text/plain": [
       "Text(value='0')"
      ]
     },
     "metadata": {},
     "output_type": "display_data"
    },
    {
     "data": {
      "application/vnd.jupyter.widget-view+json": {
       "model_id": "9b874846aa4c47eea959f572262d53ea",
       "version_major": 2,
       "version_minor": 0
      },
      "text/plain": [
       "Label(value='number 2')"
      ]
     },
     "metadata": {},
     "output_type": "display_data"
    },
    {
     "data": {
      "application/vnd.jupyter.widget-view+json": {
       "model_id": "9dffb1ba4cca49cbb4085625b2c75033",
       "version_major": 2,
       "version_minor": 0
      },
      "text/plain": [
       "Text(value='0')"
      ]
     },
     "metadata": {},
     "output_type": "display_data"
    },
    {
     "data": {
      "application/vnd.jupyter.widget-view+json": {
       "model_id": "8cf903cda3d44ffbb2de4e20f6f5fca3",
       "version_major": 2,
       "version_minor": 0
      },
      "text/plain": [
       "Button(description='add', style=ButtonStyle())"
      ]
     },
     "metadata": {},
     "output_type": "display_data"
    },
    {
     "data": {
      "application/vnd.jupyter.widget-view+json": {
       "model_id": "c0efcb25b1454f96aa506bb7d02a21cb",
       "version_major": 2,
       "version_minor": 0
      },
      "text/plain": [
       "Label(value='answer')"
      ]
     },
     "metadata": {},
     "output_type": "display_data"
    }
   ],
   "source": [
    "lbl1=widgets.Label(\"number 1\")\n",
    "display(lbl1)\n",
    "text1=widgets.Text(\"0\")\n",
    "display(text1)\n",
    "lbl2=widgets.Label(\"number 2\")\n",
    "display(lbl2)\n",
    "text2=widgets.Text(\"0\")\n",
    "display(text2)\n",
    "btn=widgets.Button(description=\"add\")\n",
    "display(btn)\n",
    "lbl3=widgets.Label(\"answer\")\n",
    "display(lbl3)\n",
    "def add(b):\n",
    "    x=int(text1.value)\n",
    "    y=int(text2.value)\n",
    "    lbl3.value=\"result is \"+str(x+y) #\"%f + %f = %f\"%(x,y,x+y)\n",
    "add(btn)\n",
    "btn.on_click(add)\n"
   ]
  },
  {
   "cell_type": "code",
   "execution_count": 4,
   "metadata": {},
   "outputs": [
    {
     "data": {
      "application/vnd.jupyter.widget-view+json": {
       "model_id": "4b0223a048994138944551ccae67ae90",
       "version_major": 2,
       "version_minor": 0
      },
      "text/plain": [
       "Dropdown(description='Location:', options=('Cuxhaven', 'Brest'), value='Cuxhaven')"
      ]
     },
     "metadata": {},
     "output_type": "display_data"
    },
    {
     "data": {
      "application/vnd.jupyter.widget-view+json": {
       "model_id": "649ad10642e24f0d83282445d7928df1",
       "version_major": 2,
       "version_minor": 0
      },
      "text/plain": [
       "Label(value='Cuxhaven')"
      ]
     },
     "metadata": {},
     "output_type": "display_data"
    }
   ],
   "source": [
    "dd1=widgets.Dropdown(\n",
    "    options=[\"Cuxhaven\",\"Brest\"],\n",
    "    value=\"Cuxhaven\",\n",
    "    description='Location:',\n",
    ")\n",
    "display(dd1)\n",
    "lbl_dd1=widgets.Label(dd1.value)\n",
    "display(lbl_dd1)\n",
    "def update_label(dd):\n",
    "    text=dd1.value\n",
    "    lbl_dd1.value=text\n",
    "dd1.observe(update_label,names=\"value\")"
   ]
  },
  {
   "cell_type": "code",
   "execution_count": 49,
   "metadata": {},
   "outputs": [
    {
     "data": {
      "application/vnd.jupyter.widget-view+json": {
       "model_id": "64db5408014a48098f127bf658a3c225",
       "version_major": 2,
       "version_minor": 0
      },
      "text/plain": [
       "BoundedIntText(value=3, description='Text:', max=10)"
      ]
     },
     "metadata": {},
     "output_type": "display_data"
    },
    {
     "data": {
      "text/plain": [
       "5"
      ]
     },
     "execution_count": 49,
     "metadata": {},
     "output_type": "execute_result"
    }
   ],
   "source": [
    "int1=widgets.BoundedIntText(\n",
    "    value=3,\n",
    "    min=0,\n",
    "    max=10,\n",
    "    step=1,\n",
    "    description='Text:',\n",
    "    disabled=False\n",
    ")\n",
    "display(int1)\n",
    "int1.value+2"
   ]
  },
  {
   "cell_type": "code",
   "execution_count": 8,
   "metadata": {},
   "outputs": [
    {
     "data": {
      "application/vnd.jupyter.widget-view+json": {
       "model_id": "71b4735201984cceb722059b2d9d596a",
       "version_major": 2,
       "version_minor": 0
      },
      "text/plain": [
       "Dropdown(description='Function:', options=('sin', 'cos'), value='sin')"
      ]
     },
     "metadata": {},
     "output_type": "display_data"
    },
    {
     "data": {
      "application/vnd.jupyter.widget-view+json": {
       "model_id": "ade3711b75374410bc2a03ed822349c7",
       "version_major": 2,
       "version_minor": 0
      },
      "text/plain": [
       "Label(value='sin')"
      ]
     },
     "metadata": {},
     "output_type": "display_data"
    },
    {
     "data": {
      "application/vnd.jupyter.widget-view+json": {
       "model_id": "b4306bbc02274c8b9400729023e53831",
       "version_major": 2,
       "version_minor": 0
      },
      "text/plain": [
       "Output(layout=Layout(height='300px'))"
      ]
     },
     "metadata": {},
     "output_type": "display_data"
    }
   ],
   "source": [
    "dd2=widgets.Dropdown(\n",
    "    options=[\"sin\",\"cos\"],\n",
    "    value=\"sin\",\n",
    "    description='Function:',\n",
    ")\n",
    "display(dd2)\n",
    "\n",
    "# a label as an extra check on changes\n",
    "lbl_dd2=widgets.Label(dd2.value)\n",
    "display(lbl_dd2)\n",
    "def update_label2(dd):\n",
    "    text=dd2.value\n",
    "    lbl_dd2.value=text\n",
    "dd2.observe(update_label2,names=\"value\")\n",
    "\n",
    "\n",
    "out_plot = widgets.Output(layout = widgets.Layout(height='300px'))\n",
    " \n",
    "\n",
    "x = np.linspace(0, 4 * np.pi, 100)\n",
    "\n",
    "def my_fun(x,choice=\"sin\"):\n",
    "    if choice==\"sin\":\n",
    "        return np.sin(x)\n",
    "    else:\n",
    "        return np.cos(x)\n",
    "\n",
    "def update_plot(change):\n",
    "    choice=dd2.value #or change[\"new\"]\n",
    "    y=my_fun(x,choice)\n",
    "    with out_plot:\n",
    "        plt.plot(x,y,color=\"C0\")\n",
    "        plt.title(choice)\n",
    "        out_plot.clear_output()\n",
    "        plt.show()\n",
    "\n",
    "dd2.observe(update_plot,names=\"value\")\n",
    "display(out_plot)\n",
    "update_plot(1)"
   ]
  },
  {
   "cell_type": "code",
   "execution_count": null,
   "metadata": {},
   "outputs": [],
   "source": []
  }
 ],
 "metadata": {
  "interpreter": {
   "hash": "52a89f5df91fad0984dd77466e275ad1bbd3f3c0a21d3287ac9d08473a9fd829"
  },
  "kernelspec": {
   "display_name": "Python 3 (ipykernel)",
   "language": "python",
   "name": "python3"
  },
  "language_info": {
   "codemirror_mode": {
    "name": "ipython",
    "version": 3
   },
   "file_extension": ".py",
   "mimetype": "text/x-python",
   "name": "python",
   "nbconvert_exporter": "python",
   "pygments_lexer": "ipython3",
   "version": "3.9.12"
  },
  "vscode": {
   "interpreter": {
    "hash": "52a89f5df91fad0984dd77466e275ad1bbd3f3c0a21d3287ac9d08473a9fd829"
   }
  }
 },
 "nbformat": 4,
 "nbformat_minor": 2
}
