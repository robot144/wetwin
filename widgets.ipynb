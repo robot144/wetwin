{
 "cells": [
  {
   "cell_type": "code",
   "execution_count": null,
   "metadata": {},
   "outputs": [],
   "source": [
    "import ipywidgets as widgets"
   ]
  },
  {
   "cell_type": "code",
   "execution_count": null,
   "metadata": {},
   "outputs": [],
   "source": [
    "# create and show a slider\n",
    "sld1=widgets.IntSlider()\n",
    "display(sld1)\n",
    "lbl_sld1=widgets.Label(\"-\")\n",
    "display(lbl_sld1)\n",
    "def update_slider_label(sld):\n",
    "    n=sld1.value\n",
    "    lbl_sld1.value=str(n)\n",
    "sld1.observe(update_slider_label,names=\"value\") # calls a function when you change the value."
   ]
  },
  {
   "cell_type": "code",
   "execution_count": null,
   "metadata": {},
   "outputs": [],
   "source": [
    "lbl1=widgets.Label(\"number 1\")\n",
    "display(lbl1)\n",
    "text1=widgets.Text(\"0\")\n",
    "display(text1)\n",
    "lbl2=widgets.Label(\"number 2\")\n",
    "display(lbl2)\n",
    "text2=widgets.Text(\"0\")\n",
    "display(text2)\n",
    "btn=widgets.Button(description=\"add\")\n",
    "display(btn)\n",
    "lbl3=widgets.Label(\"answer\")\n",
    "display(lbl3)\n",
    "def add(b):\n",
    "    x=int(text1.value)\n",
    "    y=int(text2.value)\n",
    "    lbl3.value=\"result is \"+str(x+y) #\"%f + %f = %f\"%(x,y,x+y)\n",
    "add(btn)\n",
    "btn.on_click(add)\n"
   ]
  },
  {
   "cell_type": "code",
   "execution_count": null,
   "metadata": {},
   "outputs": [],
   "source": [
    "dd1=widgets.Dropdown(\n",
    "    options=[\"Cuxhaven\",\"Brest\"],\n",
    "    value=\"Cuxhaven\",\n",
    "    description='Location:',\n",
    ")\n",
    "display(dd1)\n",
    "lbl_dd1=widgets.Label(dd1.value)\n",
    "display(lbl_dd1)\n",
    "def update_label(dd):\n",
    "    text=dd1.value\n",
    "    lbl_dd1.value=text\n",
    "dd1.observe(update_label,names=\"value\")"
   ]
  },
  {
   "cell_type": "code",
   "execution_count": null,
   "metadata": {},
   "outputs": [],
   "source": [
    "\n",
    "int1=widgets.BoundedIntText(\n",
    "    value=3,\n",
    "    min=0,\n",
    "    max=10,\n",
    "    step=1,\n",
    "    description='Text:',\n",
    "    disabled=False\n",
    ")\n",
    "display(int1)\n",
    "int1.value+2"
   ]
  },
  {
   "cell_type": "code",
   "execution_count": null,
   "metadata": {},
   "outputs": [],
   "source": [
    "dd2=widgets.Dropdown(\n",
    "    options=[\"sin\",\"cos\"],\n",
    "    value=\"sin\",\n",
    "    description='Function:',\n",
    ")\n",
    "display(dd2)\n",
    "\n",
    "# a label as an extra check on changes\n",
    "lbl_dd2=widgets.Label(dd2.value)\n",
    "display(lbl_dd2)\n",
    "def update_label2(dd):\n",
    "    text=dd2.value\n",
    "    lbl_dd2.value=text\n",
    "dd2.observe(update_label2,names=\"value\")\n",
    "\n",
    "\n",
    "out_plot = widgets.Output(layout = widgets.Layout(height='300px'))\n",
    " \n",
    "\n",
    "x = np.linspace(0, 4 * np.pi, 100)\n",
    "\n",
    "def my_fun(x,choice=\"sin\"):\n",
    "    if choice==\"sin\":\n",
    "        return np.sin(x)\n",
    "    else:\n",
    "        return np.cos(x)\n",
    "\n",
    "def update_plot(change):\n",
    "    choice=dd2.value #or change[\"new\"]\n",
    "    y=my_fun(x,choice)\n",
    "    with out_plot:\n",
    "        plt.plot(x,y,color=\"C0\")\n",
    "        plt.title(choice)\n",
    "        out_plot.clear_output()\n",
    "        plt.show()\n",
    "\n",
    "dd2.observe(update_plot,names=\"value\")\n",
    "display(out_plot)\n",
    "update_plot(1)"
   ]
  },
  {
   "cell_type": "code",
   "execution_count": null,
   "metadata": {},
   "outputs": [],
   "source": [
    "from ipywidgets import TwoByTwoLayout\n",
    "from ipywidgets import Button, Layout, jslink, IntText, IntSlider\n",
    "\n",
    "top_left_text = IntText(description='Top left', layout=Layout(width='auto', height='auto'))\n",
    "top_right_text = IntText(description='Top right', layout=Layout(width='auto', height='auto'))\n",
    "bottom_left_slider = IntSlider(description='Bottom left', layout=Layout(width='auto', height='auto'))\n",
    "bottom_right_slider = IntSlider(description='Bottom right', layout=Layout(width='auto', height='auto'))\n",
    "\n",
    "app = TwoByTwoLayout(top_left=top_left_text, top_right=top_right_text,\n",
    "                     bottom_left=bottom_left_slider, bottom_right=bottom_right_slider)\n",
    "\n",
    "link_left = jslink((app.top_left, 'value'), (app.bottom_left, 'value'))\n",
    "link_right = jslink((app.top_right, 'value'), (app.bottom_right, 'value'))\n",
    "app.bottom_right.value = 30\n",
    "app.top_left.value = 25\n",
    "app"
   ]
  },
  {
   "cell_type": "code",
   "execution_count": null,
   "metadata": {},
   "outputs": [],
   "source": [
    "from ipywidgets import AppLayout, Button, Layout\n",
    "def create_expanded_button(description, button_style):\n",
    "    return Button(description=description, button_style=button_style, layout=Layout(height='auto', width='auto'))\n",
    "\n",
    "header_button = create_expanded_button('Header', 'success')\n",
    "left_button = create_expanded_button('Left', 'info')\n",
    "center_button = create_expanded_button('Center', 'warning')\n",
    "right_button = create_expanded_button('Right', 'info')\n",
    "footer_button = create_expanded_button('Footer', 'success')\n",
    "\n",
    "a=AppLayout(header=header_button,\n",
    "          left_sidebar=left_button,\n",
    "          center=None,\n",
    "          right_sidebar=right_button,\n",
    "          footer=footer_button,\n",
    "          width=\"800px\",height=\"500px\",align_self=\"stretch\")\n",
    "display(a)"
   ]
  },
  {
   "cell_type": "code",
   "execution_count": null,
   "metadata": {},
   "outputs": [],
   "source": [
    "# Get size of window via javascript\n",
    "# TODO: DOESN'T WORK IN VS CODE, USING A DEFAULT INSTEAD\n",
    "wsize = [800,500] #global for result\n",
    "\n",
    "def win_size(width,height):\n",
    "    global win_size\n",
    "    wsize[:]=[width,height]\n",
    "    \n",
    "from IPython.display import display, HTML, Javascript\n",
    "js = \"\"\"\n",
    "var width=window.innerWidth.toString();\n",
    "var height=window.innerHeight.toString();\n",
    "var call1=\"win_size(\" + width + \",\" + height + \")\"\n",
    "IPython.notebook.kernel.execute(call1);\n",
    "\"\"\"\n",
    "display(Javascript(js))"
   ]
  },
  {
   "cell_type": "code",
   "execution_count": null,
   "metadata": {},
   "outputs": [],
   "source": [
    "wsize"
   ]
  },
  {
   "cell_type": "code",
   "execution_count": null,
   "metadata": {},
   "outputs": [],
   "source": [
    "# Get size of window via javascript\n",
    "# TODO: DOESN'T CHANGE GLOBAL IN VS CODE\n",
    "global wsize\n",
    "wsize = [0,0] #global for result\n",
    "\n",
    "def win_size(width,height):\n",
    "    global wsize\n",
    "    wsize[:]=[width,height]\n",
    "    \n",
    "from IPython.display import display, HTML, Javascript\n",
    "html1 = \"\"\"\n",
    "<p id=\"demo\"></p>\n",
    "\n",
    "<script>\n",
    "var width=screen.availWidth.toString();\n",
    "var height=window.innerHeight.toString();\n",
    "var call1=\"win_size(\" + width + \",\" + height + \")\";\n",
    "document.getElementById(\"demo\").innerHTML = call1;\n",
    "IPython.notebook.kernel.execute(call1);\n",
    "</script>\n",
    "\"\"\"\n",
    "display(HTML(html1))"
   ]
  },
  {
   "cell_type": "code",
   "execution_count": null,
   "metadata": {},
   "outputs": [],
   "source": [
    "#after running the previous cell the variable wsize will contain screen size\n",
    "wsize"
   ]
  },
  {
   "cell_type": "code",
   "execution_count": null,
   "metadata": {},
   "outputs": [],
   "source": [
    "from ipywidgets import Button, Layout, TwoByTwoLayout\n",
    "\n",
    "def create_expanded_button(description, button_style):\n",
    "    return Button(description=description, button_style=button_style, layout=Layout(height='auto', width='auto'))\n",
    "\n",
    "top_left_button = create_expanded_button(\"Top left\", 'info')\n",
    "top_right_button = create_expanded_button(\"Top right\", 'success')\n",
    "bottom_left_button = create_expanded_button(\"Bottom left\", 'danger')\n",
    "bottom_right_button = create_expanded_button(\"Bottom right\", 'warning')\n",
    "\n",
    "layout_2x2 = TwoByTwoLayout(top_left=top_left_button,\n",
    "                            top_right=top_right_button,\n",
    "                            bottom_left=bottom_left_button,\n",
    "                            bottom_right=bottom_right_button)\n",
    "layout_2x2"
   ]
  },
  {
   "cell_type": "code",
   "execution_count": 5,
   "metadata": {},
   "outputs": [
    {
     "data": {
      "application/vnd.jupyter.widget-view+json": {
       "model_id": "7d5a79a017d74c9ebc4ee5f8d1f1e107",
       "version_major": 2,
       "version_minor": 0
      },
      "text/plain": [
       "interactive(children=(IntSlider(value=1, description='w', max=10), FloatSlider(value=1.0, description='amp', m…"
      ]
     },
     "metadata": {},
     "output_type": "display_data"
    },
    {
     "data": {
      "application/vnd.jupyter.widget-view+json": {
       "model_id": "f88953e490c246eb8a49c4ef85a735d9",
       "version_major": 2,
       "version_minor": 0
      },
      "image/png": "[encoded data removed]",
      "text/html": [
       "\n",
       "            <div style=\"display: inline-block;\">\n",
       "                <div class=\"jupyter-widgets widget-label\" style=\"text-align: center;\">\n",
       "                    Figure\n",
       "                </div>\n",
       "                <img src='data:image/png;base64,iVBORw0KGgoAAAANSUhEUgAAAlgAAAGQCAYAAAByNR6YAAAAOXRFWHRTb2Z0d2FyZQBNYXRwbG90bGliIHZlcnNpb24zLjUuMSwgaHR0cHM6Ly9tYXRwbG90bGliLm9yZy/YYfK9AAAACXBIWXMAAA9hAAAPYQGoP6dpAAA4FUlEQVR4nO3deXwUhd3H8e8m2WwSSAJJSEjISbjvI6iJ3JeiRdF6FUWtJ5VakV62PrXQavFprY9aLS1qAW0p2ApUUZBYTjkkIOG+ISQkhFxkE3JsNsk8f6CJEbwnmU3283699gU72R2++WXjfp2ZnbEZhmEIAAAApvGxOgAAAEBbQ8ECAAAwGQULAADAZBQsAAAAk1GwAAAATEbBAgAAMBkFCwAAwGQULAAAAJNRsAAAAExGwQIAADAZBQsAAMBkFCwAAACTUbAAAABMRsECAAAwGQULAADAZBQsAAAAk1GwAAAATEbBAgAAMBkFCwAAwGQULAAAAJNRsAAAAExGwQIAADAZBQsAAMBkFCwAAACTUbAAAABMRsECAAAwGQULAADAZBQsAB5r9uzZstlsKioq+sLHjR49WqNHj26ZUADwFVCwAAAATEbBAgAAMBkFC4DHy8nJ0Y033qiQkBCFhobqjjvuUGFh4Rc+Z86cObr88ssVFhamkJAQDRkyRK+++qoMw2ih1AC8mZ/VAQDgy9xwww265ZZbNH36dO3fv1+/+tWvdODAAX344Yey2+2XfE5WVpYefPBBxcfHS5K2bdumhx9+WLm5uXriiSdaMj4AL0TBAuDxbrzxRv3+97+XJE2cOFFRUVG6/fbb9cYbb+j222+/5HMWLFjQ8Pf6+nqNHj1ahmHo+eef169+9SvZbLYWyQ7AO7GLEIDH+2yJuuWWW+Tn56d169Z97nPWrl2r8ePHKzQ0VL6+vrLb7XriiSdUXFysgoKC5o4MwMtRsAB4vM6dOze57+fnp/DwcBUXF1/y8du3b9fEiRMlSS+//LI2b96sjIwMPf7445Kkqqqq5g0MwOuxixCAx8vPz1eXLl0a7tfW1qq4uFjh4eGXfPySJUtkt9u1cuVKBQQENCxfsWJFc0cFAElswQLQCvzjH/9ocv+NN95QbW3t555c1Gazyc/PT76+vg3Lqqqq9PrrrzdnTABowBYsAB5v2bJl8vPz04QJExo+RThw4EDdcsstl3z8tddeq2effVZTp07VAw88oOLiYj3zzDNyOBwtnByAt2ILFgCPt2zZMh06dEg33nijnnjiCU2ePFlr1qyRv7//JR8/duxY/e1vf9PevXs1efJkPf7447rpppv02GOPtXByAN7KZnDWPQAAAFOxBQsAAMBkFCwAAACTUbAAAABM5pUFa+7cubLZbJo5c6bVUQAAQBvkdQUrIyND8+fP14ABA6yOAgAA2iivKljnz5/X7bffrpdfflkdO3a0Og4AAGijvOpEozNmzNC1116r8ePH68knn/zCx7pcLrlcrob79fX1KikpUXh4uGw2W3NHBQCgzTAMQ+Xl5YqJiZGPj3ds2/GagrVkyRJ99NFHysjI+EqPnzt3rubMmdPMqQAA8B45OTmKjY21OkaL8IqClZOTo0ceeURr1qxpcuHXL/KLX/xCs2bNarjvdDoVHx+vkydPKjg42JRcbrdb69at05gxY2S3201ZZ2vFLJpiHo2YRSNm0RTzaOTpsygvL1dSUpJp75+tgVcUrJ07d6qgoEBDhw5tWFZXV6eNGzfqxRdflMvlanJRWElyOByXvG5ZWFiYQkJCTMnldrsVFBSk8PBwj/yFaEnMoinm0YhZNGIWTTGPRp4+i08yedMhNl5RsMaNG6e9e/c2Wfb9739fvXr10s9//vOLyhUAAMC34RUFKzg4WP369WuyrF27dgoPD79oOQAAwLflHYfyAwAAtCCv2IJ1KevXr7c6AgAAaKPYggUAAGAyChYAAIDJKFgAAAAmo2ABAACYjIIFAABgMgoWAACAyShYAAAAJqNgAQAAmIyCBQAAYDIKFgAAgMkoWAAAACajYAEAAJiMggUAAGAyChYAAIDJKFgAAAAmo2ABAACYjIIFAABgMgoWAACAyShYAAAAJqNgAQAAmIyCBQAAYDIKFgAAgMkoWAAAACajYAEAAJiMggUAAGAyChYAAIDJKFgAAAAm84qCNW/ePA0YMEAhISEKCQlRamqqVq1aZXUsAADQRnlFwYqNjdXTTz+tHTt2aMeOHRo7dqyuv/567d+/3+poAACgDfKzOkBLmDx5cpP7Tz31lObNm6dt27apb9++FqUCAABtlVcUrE+rq6vTv/71L1VUVCg1NdXqOAAAoA3ymoK1d+9epaamqrq6Wu3bt9fy5cvVp0+fz328y+WSy+VquF9WViZJcrvdcrvdpmT6ZD1mra81YxZNMY9GzKIRs2iKeTTy9Fl4aq7mZDMMw7A6REuoqalRdna2SktL9eabb+qVV17Rhg0bPrdkzZ49W3PmzLlo+eLFixUUFNTccQEAaDMqKys1depUOZ1OhYSEWB2nRXhNwfqs8ePHKzk5WX/9618v+fVLbcGKi4tTUVGRaS8Ot9ut9PR0TZgwQXa73ZR1tlbMoinm0YhZNGIWTTGPRp4+i7KyMkVERHhVwfKaXYSfZRhGkwL1WQ6HQw6H46Lldrvd9Bdvc6yztWIWTTGPRsyiEbNoink08tRZeGKm5uYVBeuXv/ylJk2apLi4OJWXl2vJkiVav369Vq9ebXU0AADQBnlFwTp79qymTZumM2fOKDQ0VAMGDNDq1as1YcIEq6MBAIA2yCsK1quvvmp1BAAA4EW84kzuAAAALYmCBQAAYDIKFgAAgMkoWAAAACajYAEAAJiMggUAAGAyChYAAIDJKFgAAAAmo2ABAACYjIIFAABgMgoWAACAyShYAAAAJqNgAQAAmIyCBQAAYDIKFgAAgMkoWAAAACajYAEAAJiMggUAAGAyChYAAIDJKFgAAAAmo2ABAACYjIIFAABgMgoWAACAyShYAAAAJqNgAQAAmIyCBQAAYDIKFgAAgMm8omDNnTtXw4YNU3BwsCIjIzVlyhQdPnzY6lgAAKCN8oqCtWHDBs2YMUPbtm1Tenq6amtrNXHiRFVUVFgdDQAAtEF+VgdoCatXr25yf8GCBYqMjNTOnTs1cuRIi1IBAIC2yiu2YH2W0+mUJIWFhVmcBAAAtEVesQXr0wzD0KxZszR8+HD169fvcx/ncrnkcrka7peVlUmS3G633G63KVk+WY9Z62vNmEVTzKMRs2jELJpiHo08fRaemqs52QzDMKwO0ZJmzJihd955Rx988IFiY2M/93GzZ8/WnDlzLlq+ePFiBQUFNWdEAADalMrKSk2dOlVOp1MhISFWx2kRXlWwHn74Ya1YsUIbN25UUlLSFz72Uluw4uLiVFRUZNqLw+12Kz09XRMmTJDdbjdlna0Vs2iKeTRiFo2YRVPMo5Gnz6KsrEwRERFeVbC8YhehYRh6+OGHtXz5cq1fv/5Ly5UkORwOORyOi5bb7XbTX7zNsc7Wilk0xTwaMYtGzKIp5tHIU2fhiZmam1cUrBkzZmjx4sX6z3/+o+DgYOXn50uSQkNDFRgYaHE6AADQ1njFpwjnzZsnp9Op0aNHKzo6uuG2dOlSq6MBAIA2yCu2YHnRYWYAAMADeMUWLAAAgJZEwQIAADAZBQsAAMBkFCwAAACTUbAAAABMRsECAAAwGQULAADAZBQsAAAAk1GwAAAATEbBAgAAMBkFCwAAwGQULAAAAJNRsAAAAExGwQIAADAZBQsAAMBkFCwAAACTUbAAAABMRsECAAAwGQULAADAZBQsAAAAk1GwAAAATEbBAgAAMBkFCwAAwGQULAAAAJNRsAAAAExGwQIAADAZBQsAAMBkFCwAAACTeU3B2rhxoyZPnqyYmBjZbDatWLHC6kgAAKCN8pqCVVFRoYEDB+rFF1+0OgoAAGjj/KwO0FImTZqkSZMmWR0DAAB4Aa8pWMCn1dUbcla5VVLhUvH5GpVWuVVZU6vKmjpVuupUWVOnuvp61RtSvWGozjDka7PJ38/nws3XR4H+vgoJsCsk0K6QAD+FBtoVGRKg9g5+rQDA2/FO8DlcLpdcLlfD/bKyMkmS2+2W2+025d/4ZD1mra81M3sW9fWG8suqdaKoUieLKpRbWqW80mrlOat1xlmtovMu1Rum/FMXCfL3VWSwQ52CHYrtEKC4jkGKDwtUfFiQEiOC1DHI/0vXwWujEbNoxCyaYh6NPH0WnpqrOdkMw2imtxnPZbPZtHz5ck2ZMuVzHzN79mzNmTPnouWLFy9WUFBQM6bD11XhlnIrbcqtuPBnXoVNBdWSu972pc8N9DXU3i6185Mcvob8fSSHr+TvI/naJNsnN0mGIdUaUm39hT9r6qSqOqmq1qaqugs5XF/h3wy2G4oOMtQ5UIoJMhTX3lB0oOTrNUdEAvA2lZWVmjp1qpxOp0JCQqyO0yIoWJ/jUluw4uLiVFRUZNqLw+12Kz09XRMmTJDdbjdlna3VV52Fu65eh/LLlZnj1K6cUmXmOJVzruqSj7X72hQfFqSuEe0U1zFQ0R0CFBMaoJjQQEWGONQxyC67ya2mwlWrwvMuFZS7dLbMpdPnqpRzrkrZJZXKLqnSGWf1JZ/n7+ej3p2D1b9LiIbEd9CgLu2198NNvDbE78mnMYummEcjT59FWVmZIiIivKpgsYvwczgcDjkcjouW2+1201+8zbHO1uqzs6itq9e+vDJtPV6sLceLtCPrnKrcdRc9LyE8SH2iQ9T741v3yPaK7RgovxbeLNTBbleH9oHq3vnSX69w1epYwXkdPluuo2fLdeBMmfacdqq8ula7Tzu1+7RTf/8wR5IU5vDVuspDSuvWScO7RyimQ2ALfieeh9+TRsyiKebRyFNn4YmZmpvXFKzz58/r2LFjDfdPnjypzMxMhYWFKT4+3sJk+KyzZdVaf7hA6w8X6oOjRSp31Tb5emigXYPjO2hwXEcNSeiggXEdFBLQOn552zn8NDDuQuZP1Ncbyi6p1O7TpcrMKdWOrHPan+dUicumFbvPaMXuM5Kk5E7tNKJ7J43sEaG05AgF2H0t+i4AAF/GawrWjh07NGbMmIb7s2bNkiTdddddWrhwoUWpIEmGYWh/XpnezfbRvJe26lB+eZOvhwT46fKu4UrtGq7U5HD1jAqWj8+XH+vUWvj42JQY0U6JEe10/aAukqRz56s0/810KbKbtp44pz2nS3W8sELHCyu0cEuWAuw+Gt6tk8b3jtTY3pGKDA6w+LsAAHya1xSs0aNHywsPN/NY9fWGPso+p3f35mvNgXydPlelC+e9LZfNJg2I7aAxPTtpdM9I9e8SKt82VKi+ivYOP/XqYOia8d1lt9vlrHRr64kibTxapPWHCpTnrNb7B8/q/YNnZbNJKQkddU3/aE3qF63OoZQtALCa1xQsWO+TLVVv787Tyj1nlFvaeHB6gN1HPYJrNW3MAI3t3Vnh7S8+/s2bhQbZdXW/aF3dL1qGYejAmTL992CB/nvwrHafdioj65wyss5pztsHlJLQUdcNitF3BsQorN2XnxICAGA+ChaaXb6zWst2ndabO0/reGFFw/J2/r6a2LezrurbWWlJHbTu/fd0zaAYrzwY8uuw2WzqGxOqvjGh+tG47sorrdKqffl6d+8Z7Tx1Tjs+vv3m7QMa3bOTbhgcq3G9IzlmCwBaEAULzcJVW6f39p/Vv3ee1gdHCxtO6unv56NxvSJ13cAYjenV+KbvjSehM0tMh0DdOzxJ9w5P0hlnld7Zc0YrMnO1L7dM7x8s0PsHCxQS4KcbBnfRLcPi1Dcm1OrIANDmUbBgqhOF5/XP7dn6987TOlfZWJouSwzTTUNjNal/ZwW3kk/8tUbRoYG6b0RX3Teiq46eLdeKzFyt2JWn3NIqLdp6Sou2nlK/LiG6dVi8pgyK4WcBAM2EgoVvzV1XrzX7z+r1bVnadqKkYXl0aIBuGhqr7w6JVWJEOwsTeqfuUcH66VW9NGtCT20+VqSlO3KUvv+s9uWWaV/uPj397kHdMKSLpl2RqJ6dg62OCwBtCgUL31jxeZf+uT1bf9+WrfyyC2co97FJY3pGaurl8RrdM9LrPv3niXx9bBrZo5NG9uikkooaLd+Vq8UfntLxwgr9fduFn99liWG6+8pETewT1eInZwWAtoiCha/tUH6ZXtl0Um9l5qmmrl6SFNHeX9+7LF63XRavLl5+xnFPFtbOX/cOT9I9VyZq6/Fivb7tlNYcOKvtWSXanlWiLh0CdXdaom4ZFqfQQHYfAsA3RcHCV2IYhjYdLdLLm05o09GihuUDY0N1V1qirh0QLYcfn1JrLWw2m9K6RSitW4TyndX6x4en9I8Ps5VbWqWn3j2o/3v/iG5JidN9I5IU25GLmwPA10XBwheqravXO3vPaN764w1nWPexSVf366x7h3fV0ISOFifEt9U5NEA/nthTM8Z004pdufrb5pM6cva8Fm7J0uvbTmnygGg9MDJZfWK84wKtAGAGChYuqdpdp3/tPK35G48rp+TCCUGD/H11S0qc7rkySfHhbNVoawLsvrrtsnjdOixOm44Waf7GE/rgWJFWZOZpRWaeRvXopBljuumypDCrowKAx6NgoYkKV63+vu2UXt50UkXnXZIuHLfz/bRE3ZmaqNAgjstp62y2xoPi9+U69deNJ/TOnjxtOFKoDUcKdVlSmH44pptGdI+QzcaHGADgUihYkCSVV7v12tZTemXTiYbzV3XpEKj7RyTp1mHxCvTn+Cpv1K9LqP70vcH66cSe+svG4/r3jtPafrJEd57croGxoXpkfHeN6RlJ0QKAz6BgebnyarcWbs7SKx+clLPqQrFKDA/SQ2O66YbBXWTnI/uQFB8epN/d0F8/Gttd8zee0OLtp7T7tFP3LNyhAbGhmknRAoAmKFheqsJVq0VbszR/4wmVfrzFqmundnp4bDdNHhDDuZBwSZ1DA/TE5D56aEyyXt50Qq9tOaU9nypaj07oodE9OlG0AHg9CpaXqXbX6fWtpzRvw3GVVNRIulCsHhnXXd8ZEMOJQfGVRLR36BeTeuuBEV01/1NF6/sLMjQ0oaN+PLGH0pIjrI4JAJahYHkJd1293tiRoxf+e1Rnyy4cvJ4YHqRHxnfXdQO7UKzwjYR/qmj9deMJLdqSpZ2nzmnqyx8qLTlcP7mqp4bEcyoPAN6HgtXG1dcbemt3np5NP6LskkpJFw5ef2Rcd904pAu7AmGK8PYO/fKa3rpveJJeXHdM/9yerS3Hi3Xjn7doQp8o/fSqnuoRxfUOAXgPClYbZRiG1h8p1O9XH9bBM2WSLlzO5odjuul7l8dz1nU0i8iQAP3m+n56YGRXPf/+Ub350WmlHzir/x48qxuHxGrm+O6cGR6AV6BgtUGZOaV6etVBbTtRIkkKDvDT9FHJ+v6ViQry50eO5hfbMUh/uHmgHhzVVc+8d0Sr9+fr3ztP663MPN2ZmqAfju2mDkH+VscEgGbDu20bklVUoT+8d1jv7D0jSfL39dFdaQl6aHQ3dWzHmxlaXrfIYP1l2lBl5pTqf1cd0tYTxXrlg5N6Y0eOHhrTTXenJSrAztZUAG0PBasNKKmo0Qv/Pap/fHhK7jpDNpt04+BYPTqB3THwDIPiOmjx/Zdrw5FCPb3qkA7ll+vpVYe0aEuWfjKxp24Y3EU+fNACQBtCwWrFqt11+tvmk5q37rjKXbWSpFE9OumxSb3UO5oL88Kz2Gw2je4ZqRHdO2n5rlw9u+aw8pzV+vG/dutvm0/q8Wt6K60bp3YA0DZQsFqh+npDb+/J0+9XH1Zu6YULMfeJDtEvr+mt4d15g4Jn8/Wx6aahsfrOgGgt3JKll9Ye0/68Mk195UON7RWpX0zqpe584hBAK0fBamUyskr05MoD2n3aKUnqHBKgn17FLha0PgF2X00flaybh8bqT2uP6e/bTmntoQJtOFKoqZfFa+b47gpv77A6JgB8IxSsViK7uFJzVx3Uqn35kqR2/r76wehk3Tu8KxdiRqsW3t6h2df11Z2pCZq76pDSD5zV69tOacWuXM0Y2013DOtidUQA+NooWB6urNqtl9Ye04LNWaqpq5ePTbp1WLwendBdkcEBVscDTNO1U3u9fGeKtp0o1pPvHNC+3DI9veqQ/r41S+MjbZpkGFZHBICvjILloWrr6rUkI0fPph9puGbgiO4Revza3urVmQPY0XZd0TVcb80YruW7cvWH9w7rdGm1Fpb6at+rGXpicl8NiO1gdUQA+FIULA+06Wihnlx5UIfPlkuSkju10/9c20eje3aSzcZxVmj7fHxs+u7QWE3q31nz1h3VXzYc145Tpbruxc26cUgX/eyqXuocyhZcAJ7Lqy5E9+c//1lJSUkKCAjQ0KFDtWnTJqsjNXGi8LzuW5Shaa9u1+Gz5eoQZNec6/pq9cyRGtMrknIFrxPk76cfje2m/xlUpykDoyVJyz7K1Zhn1uuF/x5VtbvO4oQAcGleU7CWLl2qmTNn6vHHH9euXbs0YsQITZo0SdnZ2VZHk7PKrd+uPKCJ/7dR7x8skJ+PTd+/MlHrfzJad6Ulys4FmeHlOjikP9zUXytmXKmhCR1V5a7Ts+lHNPaZ9Xprd54Mjs8C4GG85p372Wef1b333qv77rtPvXv31nPPPae4uDjNmzfPsky1dfXalG/ThOc+0KsfnFRtvaGxvSL13qMj9evJfblWG/AZg+I66N/TU/XC9wYrJjRAec5q/eifu3TTX7Zqd06p1fGANqG0skZZRRVWx2j1vOIYrJqaGu3cuVOPPfZYk+UTJ07Uli1bLvkcl8sll8vVcL+srEyS5Ha75Xa7v3WmwnKX7lq4Q0cLfCW51a1TO/3ymp4a8fGZrM34N1qTT75fb/u+Pw/zaHSpWUzq00ljuofplQ+yNH/TSe08dU7Xv7RZNwyK1qwJ3dU5pG0en8Xroinm0ciMWbjr6rUk47ReWHtcSRFBWnr/ZaYdmuKNPyOb4QXb1vPy8tSlSxdt3rxZaWlpDct/97vfadGiRTp8+PBFz5k9e7bmzJlz0fLFixcrKOjbX9/PMKTn9vmqoFq6Jq5eaVGGfDnECvjaSl3SyhwfZRRe2CDv72NofJd6jYk2xCnigK/mYKlNy7N8dLbqwhtRdKChh/rUKcSkHSmVlZWaOnWqnE6nQkK845PwXrEF6xOfbeKGYXxuO//FL36hWbNmNdwvKytTXFycJk6caNqLo2eKU7u2bdaUaybIbrebss7Wyu12Kz09XRMmMAuJeXzaV5nFVEl7Tjv11KrD+ii7VO/m+GpXWYB+NrG7ru3fuc18QITXRVPMo9E3ncXxwgrNXX1YG44USZI6Btk1c1w33TK0i/xMPP73k71A3sQrClZERIR8fX2Vn5/fZHlBQYGioqIu+RyHwyGH4+LLdNjtdtN+kbtFheqI3dx1tnbMoinm0ejLZjE0KUJv/iBcb+85o6ffPag8Z7Ue/dde/X37af3qO300KK5Dy4VtZrwummIejb7qLEora/Tc+0f1922nVFtvyM/HprvTEvXwuO4KDTR/lt748/GKg9z9/f01dOhQpaenN1menp7eZJchgNbNZrPpuoExWvuT0frxhB4KtPtq56lzmvLSZj26NFNnnFVWRwQs5a6r18LNJzXqD+u1cEuWausNje8dpTWPjtT/fKdPs5Qrb+UVW7AkadasWZo2bZpSUlKUmpqq+fPnKzs7W9OnT7c6GgCTBdh99fC47ro5JU6/f++Qln2Uq+W7crVq3xk9ODJZD47qqiB/r/nPHyDDMLT2UIGeevegThRe+IRgz6hg/eo7fTS8e4TF6domr/kvzK233qri4mL95je/0ZkzZ9SvXz+9++67SkhIsDoagGbSOTRAz94ySHenJeq3Kw8oI+ucnv/vUS3NyNFPr+qpGwZ3kY9P2zg+C/g8B8+U6al3DuqDYxeOswpv569ZE3vo1pQ4U4+zQlNeU7Ak6aGHHtJDDz1kdQwALWxAbAe98WCqVu3L19xVB5VTUqUf/2u3Fmw5qcev6aPU5HCrIwKmKyiv1v+lH9HSjBzVG5K/r4++PzxRM8Z0U0gAuwKbm1cVLADey2az6Zr+0RrbK1KLtmTpxbXHtC+3TN97eZsm9InSLyb1UtdO7a2OCXxrVTV1ennTCf1lw3FV1ly4nNS1/aP12KReigv79qcZwldDwQLgVQLsvnpwVLJuGhqr594/qsXbs5V+4KzWHSrQ7ZfH60fjuiu8/cWfIAY8Xb0hLduVq/97/7jyy6olSQPjOuh/ru2tYYlhFqfzPhQsAF4pvL1Dv53ST3emJmjuqkNae6hAi7ae0rKPcvXQmG76/pWJCrBzplK0Dh8cK9Yze3yVu22/JKlLh0D97OqemjwghuMMLULBAuDVukcF6293D9OWY0V66t2D2p9Xpv9dfUivb83SrIkXDoT35Q0KHupAXpnmrjqoTUeLJNnU3uGnGfwPgkegYAGApLRuEXr7h8O1IjNXf3jvsPKc1frJv3brlU0n9PNJvTS6R6c2c0Z4tH6nz1Xq2fQjWr4rV4Yh2X1tSutUp9/fPVxRHdpZHQ+iYAFAAx8fm24cEqtr+kdr4ZYsvbTumA7ll+v7CzKU2jVcP5/Uq02dER6tT0lFjV5ad0yvbz2lmrp6SdK1A6L16Lhk7d+2XmHtTLp4IL41ChYAfEaA3VfTRyXrtmFxemndMS3ackpbTxRrykubdXXfzvrJVT3ULTLY6pjwIhWuWi3YfFJ/3XBC5a5aSWpS+t1ut/ZbnBFNUbAA4HN0CPLX49f20V1piXru/aNa9tFprd6frzUH8vXdIbF6ZHx3xXbkY+9oPq7aOi3+MFsvrTumovM1kqTe0SF6bFIvjewewW5rD0bBAoAvEdsxSM/cPFAPjOyqZ947rDUHzupfO09rRWauvndZvGaM6aaokACrY6INcdfVa9lHp/X8+0eV57xwyoWE8CDNmtCDTwa2EhQsAPiKekQFa/6dKfoo+5z+uOawNh8r1mtbT2lpRo7uSkvUgyO7cg4tfCu1dfX6T2aeXlh7VKeKKyVJnUMC9KNx3XVzSqzsXNqm1aBgAcDXNCS+o/5x3xXacrxIf1xzRDtPndP8jSf0+tZTujMtQQ+MoGjh66mrN7RyT56ef/+oThRduBhzeDt//WB0su64IoFTLrRCFCwA+IbSkiOUOj1cG44U6tn0I9pz2qm/bjih17ac0p2pCbp/ZFdFULTwBWrr6vXW7jy9uPZYQ7HqEGTXgyOTdVdagoL8eZturfjJAcC3YLPZNLpnpEb16KR1hwv03PtHLxStjSe0aGuWvndZvB4Y2VXRoYFWR4UHcdfVa/lHuXpp/bGGXYGhgXbdNzxJd1+ZqGAuxtzqUbAAwAQ2m01je0VpTM9IrTtcoOffP6rdp51asDlLf992SjcNjdMPRiUrPpxPHXqzyppaLc3I0csbTzQcvB7Wzl/3jUjStCsSKFZtCAULAEz06aK16WiRXlx3TNtPluif27O1NCNb1/SP1oMjk9U/NtTqqGhBpZU1em3rKS3YfFLnKt2SpIj2Dj0wMkm3X56gdg7ejtsafqIA0AxsNptG9uikkT06KSOrRC+uPaYNRwq1cs8ZrdxzRld2C9cDI5M5l1Ebd6q4Qn/74KTe2HFaVe46SVJ8WJAeGNlVNw2N5eD1NoyCBQDNbFhimBbdc5kO5JVp/sbjenvPGW0+VqzNx4rVI6q97rkySVMGd+HNto0wDEMfZZfqlU0n9N7+fNUbF5b36hysH4xO1rX9o+XH6RbaPAoWALSQPjEheu62wfrJVT316gcntTQjR0fOntdjy/bqf1cf0u2XJ+iOKxLUOZSTlrZGrto6rdx9Rgu3ZGlvrrNh+agenXT/iK66sls4Wyu9CAULAFpYbMcg/XpyX80c30P/2pGjBZuzlFtapRfXHdO8Dcc1sU+Upl2RoNRk3pBbg9zSKv3zw2z9c3u2iisuXM7G389H1w+M0X0juqpnZ65b6Y0oWABgkdBAu+4b0VV3pyUq/cBZLdicpe1ZJVq1L1+r9uWra6d2uv3yBN0wuIvC2vlbHRefUltXr3WHC7X4w1Naf6RQxse7AaNDA3THFQm6bVgcJ5v1chQsALCYn6+PJvWP1qT+0TqcX66/bzulZR+d1onCCv125QH976pDmtAnSt8dEt1wPA+skVVUoTc/Oq1/7zytMx+fZkGS0pLDdccVCZrYJ4rjqyCJggUAHqVn52D9dko//XxSLy3flas3MnK0N9epd/ae0Tt7z6iDv68O+x/Vd4fGqXsUu55aQnm1W+/uPaN/7zytjKxzDcvD2vnrpqGxum1YnLp2am9hQngiChYAeKD2Dj9NuyJB065I0P48p97IyNHyXbkqra7VXzae1F82nlS/LiGaMqiLrh0QzZniTVbtrtPaQwV6KzNPaw8XqKa2XpLkY5NGdO+km4bGamLfKDn8+OQnLo2CBQAerm9MqOZcH6qfTuimPy5Zo2yfztpwpEj7csu0L7dMT75zUEMTOuqa/tG6pn9nytY3VFlTq41HCrV6X77SD5xVRU1dw9e6RbbXTUNjdcPgLooK4VOe+HIULABoJRx2Xw0KN/TLawarvMbQO3vy9NbuPO04dU47P779duUBDYwN1bjeURrXO1J9okP4JOIXKD7v0vrDhXpvf742Hi1Utbu+4WtdOgRq8sAYTR4YzRzxtVGwAKAVCmvnr2mpiZqWmqizZdVatfeM3t2br4xTJdp92qndp516Nv2IYkIDNLpXpEZ0i1BacoRCg7z7Wnd19Yb2nC7V+sOFWn+kUHtOlzZ8AlCSYjsG6qq+nXVN/84aEt+RUoVvjIIFAK1cVEiA7r4ySXdfmaSC8mqtO1Sg9w8WaNPRQuU5q7X4w2wt/jBbPjapf2wHDe8WrsuSwjU0oaPat/Fr4NXXGzqUX66tJ4q19Xixtp8sVll1bZPH9IkO0fg+UbqqbxRbqmCatv2b9bGnnnpK77zzjjIzM+Xv76/S0lKrIwFAs4gMDtCtw+J167B4VbvrtOV4kTYeKdKmo4U6Xlih3Tml2p1TqpfWHZeP7cLZ5YclhmlQXAcNiO2ghLAg+fi03oLhrHJrd06pPso+p13ZpdqVfe6iQhUc4KcR3SM0ukekRvXsxDFVaBZeUbBqamp08803KzU1Va+++qrVcQCgRQTYfTW2V5TG9oqSJJ1xVmnT0SJtO1GsjKwS5ZRUNRwo/4ngAD/17xKqPtEh6hEVrB6dg9U9sr3aediWrtq6emUVV2hviU3H1x3XkbMVOnCmTNkllRc9NsjfV8MSw5SaHK7UruHqGxPCuarQ7DzrN6aZzJkzR5K0cOFCa4MAgIWiQwN1S0qcbkmJk3ShcGVkndPOrBLtyXXqQF6ZyqtrteV4sbYcL27y3JjQAMWFBSkhPEjxYUGKCwtSVEiAIoMdigoJML2Auevqda6iRvll1corrVJu6YU/s0sqdaLwvLJLKuWuMyT5SoePN3luQniQBsd10JCEjhoc11G9ooNlp1ChhXlFwQIAXCw6NFDXDQzUdQNjJF0oNUfOlmvvaacOny3X0bPndfhsuQrLXcpzVivPWa0PT5Zccl3t/H3VIchfwQF+Cg20KyTQrkC7r/z9fC7cfH3k62NTvWHIMC4cbF5bb6iqplYVNXWqqqnTeVetSitrVFxRo/LP7Na7lEC7j8LsdbqsZxf169JBfaJD1Ds6WB2CuKwQrEfB+hwul0sul6vhflnZhU3obrdbbrfblH/jk/WYtb7WjFk0xTwaMYtGLTGLHp2C1KNTkKTohmXnKmuUVVyp7JILW5ByzlUp91yVCstdKih3qaKm7uNblalZfGxSRHuHYjoEKCY0QNGhAYrtGKikiHbqGtFOYYE++u/772vChJ6y2xs/HemNrxVP/z3x1FzNyWYYRqu8stXs2bMbdv19noyMDKWkpDTcX7hwoWbOnPmVDnL/vPUvXrxYQUFBXzsvALRV1XVSWY1UVStV1dk+/lOqqZdqP7kZNtUbF0qTTZLNJvnaDPn7SA5fyd9H8veV2vkZam+X2vtJgX4XHo/Wr7KyUlOnTpXT6VRISIjVcVpEqy1YRUVFKioq+sLHJCYmKiCg8dMhX6dgXWoLVlxcnIqKikx7cbjdbqWnp2vChAlN/u/LGzGLpphHI2bRiFk0xTwaefosysrKFBER4VUFq9XuIoyIiFBERESzrd/hcMjhcFy03G63m/7ibY51tlbMoinm0YhZNGIWTTGPRp46C0/M1NxabcH6OrKzs1VSUqLs7GzV1dUpMzNTktStWze1b88V0AEAgLm8omA98cQTWrRoUcP9wYMHS5LWrVun0aNHW5QKAAC0VV5xYpCFCxfKMIyLbpQrAADQHLyiYAEAALQkChYAAIDJKFgAAAAmo2ABAACYjIIFAABgMgoWAACAyShYAAAAJqNgAQAAmIyCBQAAYDIKFgAAgMkoWAAAACajYAEAAJiMggUAAGAyChYAAIDJKFgAAAAmo2ABAACYjIIFAABgMgoWAACAyShYAAAAJqNgAQAAmIyCBQAAYDIKFgAAgMkoWAAAACajYAEAAJiMggUAAGAyChYAAIDJKFgAAAAma/MFKysrS/fee6+SkpIUGBio5ORk/frXv1ZNTY3V0QAAQBvlZ3WA5nbo0CHV19frr3/9q7p166Z9+/bp/vvvV0VFhZ555hmr4wEAgDaozResq6++WldffXXD/a5du+rw4cOaN28eBQsAADSLNr+L8FKcTqfCwsKsjgEAANqoNr8F67OOHz+uP/3pT/rjH//4hY9zuVxyuVwN98vKyiRJbrdbbrfblCyfrMes9bVmzKIp5tGIWTRiFk0xj0aePgtPzdWcbIZhGFaH+CZmz56tOXPmfOFjMjIylJKS0nA/Ly9Po0aN0qhRo/TKK698o/UvXrxYQUFB3yw0AABeqLKyUlOnTpXT6VRISIjVcVpEqy1YRUVFKioq+sLHJCYmKiAgQNKFcjVmzBhdfvnlWrhwoXx8vnjv6KW2YMXFxamoqMi0F4fb7VZ6eromTJggu91uyjpbK2bRFPNoxCwaMYummEcjT59FWVmZIiIivKpgtdpdhBEREYqIiPhKj83NzdWYMWM0dOhQLViw4EvLlSQ5HA45HI6LltvtdtNfvM2xztaKWTTFPBoxi0bMoinm0chTZ+GJmZpbqy1YX1VeXp5Gjx6t+Ph4PfPMMyosLGz4WufOnS1MBgAA2qo2X7DWrFmjY8eO6dixY4qNjW3ytVa6dxQAAHi4Nn+ahrvvvluGYVzyBgAA0BzafMECAABoaRQsAAAAk1GwAAAATEbBAgAAMBkFCwAAwGQULAAAAJNRsAAAAExGwQIAADAZBQsAAMBkFCwAAACTUbAAAABMRsECAAAwGQULAADAZBQsAAAAk1GwAAAATEbBAgAAMBkFCwAAwGQULAAAAJNRsAAAAExGwQIAADAZBQsAAMBkFCwAAACTUbAAAABMRsECAAAwGQULAADAZBQsAAAAk1GwAAAATEbBAgAAMJlXFKzrrrtO8fHxCggIUHR0tKZNm6a8vDyrYwEAgDbKKwrWmDFj9MYbb+jw4cN68803dfz4cd10001WxwIAAG2Un9UBWsKjjz7a8PeEhAQ99thjmjJlitxut+x2u4XJAABAW+QVW7A+raSkRP/4xz+UlpZGuQIAAM3CK7ZgSdLPf/5zvfjii6qsrNQVV1yhlStXfuHjXS6XXC5Xw/2ysjJJktvtltvtNiXTJ+sxa32tGbNoink0YhaNmEVTzKORp8/CU3M1J5thGIbVIb6J2bNna86cOV/4mIyMDKWkpEiSioqKVFJSolOnTmnOnDkKDQ3VypUrZbPZvtb6Fy9erKCgoG//DQAA4CUqKys1depUOZ1OhYSEWB2nRbTaglVUVKSioqIvfExiYqICAgIuWn769GnFxcVpy5YtSk1NveRzL7UFKy4uTkVFRaa9ONxut9LT0zVhwgSv313JLJpiHo2YRSNm0RTzaOTpsygrK1NERIRXFaxWu4swIiJCERER3+i5n3TKTxeoz3I4HHI4HBctt9vtpr94m2OdrRWzaIp5NGIWjZhFU8yjkafOwhMzNbdWW7C+qu3bt2v79u0aPny4OnbsqBMnTuiJJ55QcnLy5269AgAA+Dba/KcIAwMDtWzZMo0bN049e/bUPffco379+mnDhg2X3EIFAADwbbX5LVj9+/fX2rVrrY4BAAC8SJvfggUAANDSKFgAAAAmo2ABAACYjIIFAABgMgoWAACAyShYAAAAJqNgAQAAmIyCBQAAYDIKFgAAgMkoWAAAACajYAEAAJiMggUAAGAyChYAAIDJKFgAAAAmo2ABAACYjIIFAABgMgoWAACAyShYAAAAJqNgAQAAmIyCBQAAYDIKFgAAgMkoWAAAACajYAEAAJiMggUAAGAyChYAAIDJKFgAAAAmo2ABAACYjIIFAABgMq8qWC6XS4MGDZLNZlNmZqbVcQAAQBvlVQXrZz/7mWJiYqyOAQAA2jivKVirVq3SmjVr9Mwzz1gdBQAAtHF+VgdoCWfPntX999+vFStWKCgo6Cs9x+VyyeVyNdx3Op2SpJKSErndblNyud1uVVZWqri4WHa73ZR1tlbMoinm0YhZNGIWTTGPRp4+i/LyckmSYRgWJ2k5bb5gGYahu+++W9OnT1dKSoqysrK+0vPmzp2rOXPmXLQ8KSnJ5IQAAHiH8vJyhYaGWh2jRdiMVlonZ8+efckC9GkZGRnasmWLli5dqo0bN8rX11dZWVlKSkrSrl27NGjQoM997me3YNXX16ukpETh4eGy2WymfA9lZWWKi4tTTk6OQkJCTFlna8UsmmIejZhFI2bRFPNo5OmzMAxD5eXliomJkY+Pdxyd1GoLVlFRkYqKir7wMYmJibrtttv09ttvNylFdXV18vX11e23365FixY1d9TPVVZWptDQUDmdTo/8hWhJzKIp5tGIWTRiFk0xj0bMwvO02l2EERERioiI+NLHvfDCC3ryyScb7ufl5emqq67S0qVLdfnllzdnRAAA4KVabcH6quLj45vcb9++vSQpOTlZsbGxVkQCAABtnHfsCPVQDodDv/71r+VwOKyOYjlm0RTzaMQsGjGLpphHI2bheVrtMVgAAACeii1YAAAAJqNgAQAAmIyCBQAAYDIKFgAAgMkoWBb685//rKSkJAUEBGjo0KHatGmT1ZEssXHjRk2ePFkxMTGy2WxasWKF1ZEsMXfuXA0bNkzBwcGKjIzUlClTdPjwYatjWWbevHkaMGCAQkJCFBISotTUVK1atcrqWB5h7ty5stlsmjlzptVRWtzs2bNls9ma3Dp37mx1LMvk5ubqjjvuUHh4uIKCgjRo0CDt3LnT6lgQBcsyS5cu1cyZM/X4449r165dGjFihCZNmqTs7Gyro7W4iooKDRw4UC+++KLVUSy1YcMGzZgxQ9u2bVN6erpqa2s1ceJEVVRUWB3NErGxsXr66ae1Y8cO7dixQ2PHjtX111+v/fv3Wx3NUhkZGZo/f74GDBhgdRTL9O3bV2fOnGm47d271+pIljh37pyuvPJK2e12rVq1SgcOHNAf//hHdejQwepoEKdpsMzll1+uIUOGaN68eQ3LevfurSlTpmju3LkWJrOWzWbT8uXLNWXKFKujWK6wsFCRkZHasGGDRo4caXUcjxAWFqY//OEPuvfee62OYonz589ryJAh+vOf/6wnn3xSgwYN0nPPPWd1rBY1e/ZsrVixQpmZmVZHsdxjjz2mzZs3e+3eD0/HFiwL1NTUaOfOnZo4cWKT5RMnTtSWLVssSgVP43Q6JV0oFd6urq5OS5YsUUVFhVJTU62OY5kZM2bo2muv1fjx462OYqmjR48qJiZGSUlJuu2223TixAmrI1nirbfeUkpKim6++WZFRkZq8ODBevnll62OhY9RsCxQVFSkuro6RUVFNVkeFRWl/Px8i1LBkxiGoVmzZmn48OHq16+f1XEss3fvXrVv314Oh0PTp0/X8uXL1adPH6tjWWLJkiX66KOPvHoLt3Rh6/9rr72m9957Ty+//LLy8/OVlpam4uJiq6O1uBMnTmjevHnq3r273nvvPU2fPl0/+tGP9Nprr1kdDfKCaxF6MpvN1uS+YRgXLYN3+uEPf6g9e/bogw8+sDqKpXr27KnMzEyVlpbqzTff1F133aUNGzZ4XcnKycnRI488ojVr1iggIMDqOJaaNGlSw9/79++v1NRUJScna9GiRZo1a5aFyVpefX29UlJS9Lvf/U6SNHjwYO3fv1/z5s3TnXfeaXE6sAXLAhEREfL19b1oa1VBQcFFW7XgfR5++GG99dZbWrdunddfkNzf31/dunVTSkqK5s6dq4EDB+r555+3OlaL27lzpwoKCjR06FD5+fnJz89PGzZs0AsvvCA/Pz/V1dVZHdEy7dq1U//+/XX06FGro7S46Ojoi/5no3fv3l75YSlPRMGygL+/v4YOHar09PQmy9PT05WWlmZRKljNMAz98Ic/1LJly7R27VolJSVZHcnjGIYhl8tldYwWN27cOO3du1eZmZkNt5SUFN1+++3KzMyUr6+v1REt43K5dPDgQUVHR1sdpcVdeeWVF53K5ciRI0pISLAoET6NXYQWmTVrlqZNm6aUlBSlpqZq/vz5ys7O1vTp062O1uLOnz+vY8eONdw/efKkMjMzFRYWpvj4eAuTtawZM2Zo8eLF+s9//qPg4OCGLZyhoaEKDAy0OF3L++Uvf6lJkyYpLi5O5eXlWrJkidavX6/Vq1dbHa3FBQcHX3QsXrt27RQeHu51x+j95Cc/0eTJkxUfH6+CggI9+eSTKisr01133WV1tBb36KOPKi0tTb/73e90yy23aPv27Zo/f77mz59vdTRIkgHLvPTSS0ZCQoLh7+9vDBkyxNiwYYPVkSyxbt06Q9JFt7vuusvqaC3qUjOQZCxYsMDqaJa45557Gn4/OnXqZIwbN85Ys2aN1bE8xqhRo4xHHnnE6hgt7tZbbzWio6MNu91uxMTEGDfeeKOxf/9+q2NZ5u233zb69etnOBwOo1evXsb8+fOtjoSPcR4sAAAAk3EMFgAAgMkoWAAAACajYAEAAJiMggUAAGAyChYAAIDJKFgAAAAmo2ABAACYjIIFAABgMgoWAACAyShYAAAAJqNgAQAAmIyCBQAAYDIKFgAAgMkoWAAAACajYAEAAJiMggUAAGAyChYAAIDJKFgAAAAmo2ABAACYjIIFAABgMgoWAACAyShYAAAAJvt/VvxfzabCACoAAAAASUVORK5CYII=' width=600.0/>\n",
       "            </div>\n",
       "        "
      ],
      "text/plain": [
       "Canvas(toolbar=Toolbar(toolitems=[('Home', 'Reset original view', 'home', 'home'), ('Back', 'Back to previous …"
      ]
     },
     "metadata": {},
     "output_type": "display_data"
    }
   ],
   "source": [
    "%matplotlib widget\n",
    "import ipywidgets as widgets\n",
    "import matplotlib.pyplot as plt\n",
    "import numpy as np\n",
    "# set up plot\n",
    "fig, ax = plt.subplots(figsize=(6, 4))\n",
    "ax.set_ylim([-4, 4])\n",
    "ax.grid(True)\n",
    " \n",
    "# generate x values\n",
    "x = np.linspace(0, 2 * np.pi, 100)\n",
    " \n",
    " \n",
    "def my_sine(x, w, amp, phi):\n",
    "    return amp*np.sin(w * (x-phi))\n",
    " \n",
    " \n",
    "@widgets.interact(w=(0, 10, 1), amp=(0, 4, .1), phi=(0, 2*np.pi+0.01, 0.01))\n",
    "def update(w = 1.0, amp=1, phi=0):\n",
    "    \"\"\"Remove old lines from plot and plot new one\"\"\"\n",
    "    [l.remove() for l in ax.lines]\n",
    "    ax.plot(x, my_sine(x, w, amp, phi), color='C0')\n",
    "    plt.title(\"bla\")"
   ]
  },
  {
   "cell_type": "code",
   "execution_count": 6,
   "metadata": {},
   "outputs": [
    {
     "data": {
      "text/plain": [
       "Text(0.5, 0.98, 'test')"
      ]
     },
     "execution_count": 6,
     "metadata": {},
     "output_type": "execute_result"
    }
   ],
   "source": [
    "fig.suptitle(\"test\")"
   ]
  },
  {
   "cell_type": "code",
   "execution_count": null,
   "metadata": {},
   "outputs": [],
   "source": []
  }
 ],
 "metadata": {
  "interpreter": {
   "hash": "52a89f5df91fad0984dd77466e275ad1bbd3f3c0a21d3287ac9d08473a9fd829"
  },
  "kernelspec": {
   "display_name": "Python 3.9.12 64-bit ('base': conda)",
   "name": "python3"
  },
  "language_info": {
   "codemirror_mode": {
    "name": "ipython",
    "version": 3
   },
   "file_extension": ".py",
   "mimetype": "text/x-python",
   "name": "python",
   "nbconvert_exporter": "python",
   "pygments_lexer": "ipython3",
   "version": "3.9.12"
  },
  "vscode": {
   "interpreter": {
    "hash": "52a89f5df91fad0984dd77466e275ad1bbd3f3c0a21d3287ac9d08473a9fd829"
   }
  }
 },
 "nbformat": 4,
 "nbformat_minor": 2
}
