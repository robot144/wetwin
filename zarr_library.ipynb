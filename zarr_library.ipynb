{
 "cells": [
  {
   "cell_type": "code",
   "execution_count": 1,
   "metadata": {
    "tags": []
   },
   "outputs": [],
   "source": [
    "import ipywidgets as widgets\n",
    "import datetime as dt\n",
    "import pandas as pd\n",
    "import numpy as np\n",
    "import zarr\n",
    "import xarray as xr\n",
    "import matplotlib.pyplot as plt\n",
    "%matplotlib inline\n",
    "plt.rcParams['figure.figsize'] = [15, 8]\n"
   ]
  },
  {
   "cell_type": "markdown",
   "metadata": {},
   "source": [
    "## Zarr library\n",
    "\n",
    "Above we're opening the dataset with Xarray. This is probably the recommended route in most cases, but you can also use the underlying zarr library directly."
   ]
  },
  {
   "cell_type": "code",
   "execution_count": 2,
   "metadata": {},
   "outputs": [],
   "source": [
    "his_url = \"https://nx7384.your-storageshare.de/apps/sharingpath/wetwin/public/zunormm/ZUNO_his.zarr/\""
   ]
  },
  {
   "cell_type": "code",
   "execution_count": 3,
   "metadata": {},
   "outputs": [
    {
     "name": "stdout",
     "output_type": "stream",
     "text": [
      "/\n",
      " ├── salinity (2321, 47, 45) int16\n",
      " ├── station_name (47,) |S256\n",
      " ├── station_x_coordinate (47,) float64\n",
      " ├── station_y_coordinate (47,) float64\n",
      " ├── time (2321,) float64\n",
      " ├── waterlevel (2321, 47) int16\n",
      " ├── x_velocity (2321, 47, 45) int16\n",
      " ├── y_velocity (2321, 47, 45) int16\n",
      " ├── zcoordinate_c (2321, 47, 45) int32\n",
      " └── zcoordinate_w (2321, 47, 46) int32\n"
     ]
    }
   ],
   "source": [
    "ff=zarr.open_consolidated(his_url) #consolidated metadata is necessary when no directories can be listed as over http \n",
    "\n",
    "print(ff.tree())\n"
   ]
  },
  {
   "cell_type": "code",
   "execution_count": 7,
   "metadata": {
    "scrolled": true
   },
   "outputs": [
    {
     "name": "stdout",
     "output_type": "stream",
     "text": [
      "{'_ARRAY_DIMENSIONS': ['time', 'stations'], '_FillValue': -999.0, 'add_offset': 0.0, 'coordinates': 'station_x_coordinate station_y_coordinate station_name', 'geometry': 'station_geom', 'long_name': 'water level', 'scale_factor': 0.001, 'standard_name': 'sea_surface_height', 'units': 'm'}\n"
     ]
    },
    {
     "data": {
      "text/plain": [
       "<zarr.core.Array '/waterlevel' (2321, 47) int16>"
      ]
     },
     "execution_count": 7,
     "metadata": {},
     "output_type": "execute_result"
    }
   ],
   "source": [
    "print(ff.waterlevel.attrs.asdict())\n",
    "ff.waterlevel"
   ]
  },
  {
   "cell_type": "code",
   "execution_count": 5,
   "metadata": {},
   "outputs": [
    {
     "data": {
      "text/plain": [
       "((3,), (2,), (2, 3))"
      ]
     },
     "execution_count": 5,
     "metadata": {},
     "output_type": "execute_result"
    }
   ],
   "source": [
    "x=np.array([1,2,3])\n",
    "y=np.array([1,2])\n",
    "vals=np.random.randn(2,3)\n",
    "#plt.pcolormesh(x,y,vals)\n",
    "x.shape, y.shape, vals.shape"
   ]
  },
  {
   "cell_type": "code",
   "execution_count": null,
   "metadata": {},
   "outputs": [],
   "source": []
  }
 ],
 "metadata": {
  "interpreter": {
   "hash": "52a89f5df91fad0984dd77466e275ad1bbd3f3c0a21d3287ac9d08473a9fd829"
  },
  "kernelspec": {
   "display_name": "Python 3 (system-wide)",
   "language": "python",
   "name": "python3"
  },
  "language_info": {
   "codemirror_mode": {
    "name": "ipython",
    "version": 3
   },
   "file_extension": ".py",
   "mimetype": "text/x-python",
   "name": "python",
   "nbconvert_exporter": "python",
   "pygments_lexer": "ipython3",
   "version": "3.8.10"
  },
  "toc-showmarkdowntxt": true
 },
 "nbformat": 4,
 "nbformat_minor": 4
}
